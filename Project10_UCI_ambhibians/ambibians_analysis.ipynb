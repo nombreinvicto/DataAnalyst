{
 "cells": [
  {
   "cell_type": "code",
   "execution_count": 419,
   "metadata": {
    "collapsed": true
   },
   "outputs": [],
   "source": [
    "import os\n",
    "import numpy as np\n",
    "import pandas as pd\n",
    "import seaborn as sns\n",
    "import matplotlib.pyplot as plt\n",
    "from matplotlib.figure import Figure\n",
    "import matplotlib.axes._axes as axes"
   ]
  },
  {
   "cell_type": "code",
   "execution_count": 420,
   "outputs": [],
   "source": [
    "# import the necessary keras packages\n",
    "from sklearn.preprocessing import StandardScaler, OneHotEncoder\n",
    "from sklearn.compose import make_column_transformer\n",
    "from sklearn.preprocessing import LabelBinarizer\n",
    "from sklearn.model_selection import train_test_split\n",
    "from sklearn.metrics import classification_report\n",
    "\n",
    "##\n",
    "import tensorflow as tf\n",
    "from tensorflow.keras.layers import Conv2D, Activation, Flatten, Dense\n",
    "from tensorflow.keras.preprocessing.image import ImageDataGenerator\n",
    "from tensorflow.keras.optimizers import RMSprop, SGD, Adam\n",
    "from tensorflow.keras.applications import VGG16\n",
    "from tensorflow.keras.layers import Input, BatchNormalization, Dropout\n",
    "from tensorflow.keras.models import Model, Sequential\n",
    "from tensorflow.keras.utils import plot_model\n",
    "from tensorflow.keras import backend as K\n",
    "from imutils import paths"
   ],
   "metadata": {
    "collapsed": false,
    "pycharm": {
     "name": "#%%\n"
    }
   }
  },
  {
   "cell_type": "code",
   "execution_count": 421,
   "outputs": [
    {
     "data": {
      "text/plain": "  water_surface_m2 num_reservoir type_reservoir type_vegetation  \\\n1              600             1              1               4   \n2              700             1              5               1   \n3              200             1              5               1   \n4              300             1              5               0   \n5              600             2              1               4   \n\n  type1_land_cover type2_land_cover type3_land_cover reservoir_use  \\\n1                6                2               10             0   \n2               10                6               10             3   \n3               10                6               10             3   \n4                6               10                2             3   \n5               10                2                6             0   \n\n  fishing_freq area_access  ... building_dist maintenance_status type_shore  \\\n1            0          50  ...             0                  0          1   \n2            1          75  ...             1                  0          1   \n3            4          75  ...             1                  0          1   \n4            4          25  ...             0                  0          1   \n5            0          99  ...             5                  0          1   \n\n  green_frog brown_frog common_toad fire_toad tree_frog common_newt  \\\n1          0          0           0         0         0           0   \n2          0          1           1         0         0           1   \n3          0          1           1         0         0           1   \n4          0          0           1         0         0           0   \n5          0          1           1         1         0           1   \n\n  crested_nest  \n1            0  \n2            0  \n3            0  \n4            0  \n5            1  \n\n[5 rows x 21 columns]",
      "text/html": "<div>\n<style scoped>\n    .dataframe tbody tr th:only-of-type {\n        vertical-align: middle;\n    }\n\n    .dataframe tbody tr th {\n        vertical-align: top;\n    }\n\n    .dataframe thead th {\n        text-align: right;\n    }\n</style>\n<table border=\"1\" class=\"dataframe\">\n  <thead>\n    <tr style=\"text-align: right;\">\n      <th></th>\n      <th>water_surface_m2</th>\n      <th>num_reservoir</th>\n      <th>type_reservoir</th>\n      <th>type_vegetation</th>\n      <th>type1_land_cover</th>\n      <th>type2_land_cover</th>\n      <th>type3_land_cover</th>\n      <th>reservoir_use</th>\n      <th>fishing_freq</th>\n      <th>area_access</th>\n      <th>...</th>\n      <th>building_dist</th>\n      <th>maintenance_status</th>\n      <th>type_shore</th>\n      <th>green_frog</th>\n      <th>brown_frog</th>\n      <th>common_toad</th>\n      <th>fire_toad</th>\n      <th>tree_frog</th>\n      <th>common_newt</th>\n      <th>crested_nest</th>\n    </tr>\n  </thead>\n  <tbody>\n    <tr>\n      <th>1</th>\n      <td>600</td>\n      <td>1</td>\n      <td>1</td>\n      <td>4</td>\n      <td>6</td>\n      <td>2</td>\n      <td>10</td>\n      <td>0</td>\n      <td>0</td>\n      <td>50</td>\n      <td>...</td>\n      <td>0</td>\n      <td>0</td>\n      <td>1</td>\n      <td>0</td>\n      <td>0</td>\n      <td>0</td>\n      <td>0</td>\n      <td>0</td>\n      <td>0</td>\n      <td>0</td>\n    </tr>\n    <tr>\n      <th>2</th>\n      <td>700</td>\n      <td>1</td>\n      <td>5</td>\n      <td>1</td>\n      <td>10</td>\n      <td>6</td>\n      <td>10</td>\n      <td>3</td>\n      <td>1</td>\n      <td>75</td>\n      <td>...</td>\n      <td>1</td>\n      <td>0</td>\n      <td>1</td>\n      <td>0</td>\n      <td>1</td>\n      <td>1</td>\n      <td>0</td>\n      <td>0</td>\n      <td>1</td>\n      <td>0</td>\n    </tr>\n    <tr>\n      <th>3</th>\n      <td>200</td>\n      <td>1</td>\n      <td>5</td>\n      <td>1</td>\n      <td>10</td>\n      <td>6</td>\n      <td>10</td>\n      <td>3</td>\n      <td>4</td>\n      <td>75</td>\n      <td>...</td>\n      <td>1</td>\n      <td>0</td>\n      <td>1</td>\n      <td>0</td>\n      <td>1</td>\n      <td>1</td>\n      <td>0</td>\n      <td>0</td>\n      <td>1</td>\n      <td>0</td>\n    </tr>\n    <tr>\n      <th>4</th>\n      <td>300</td>\n      <td>1</td>\n      <td>5</td>\n      <td>0</td>\n      <td>6</td>\n      <td>10</td>\n      <td>2</td>\n      <td>3</td>\n      <td>4</td>\n      <td>25</td>\n      <td>...</td>\n      <td>0</td>\n      <td>0</td>\n      <td>1</td>\n      <td>0</td>\n      <td>0</td>\n      <td>1</td>\n      <td>0</td>\n      <td>0</td>\n      <td>0</td>\n      <td>0</td>\n    </tr>\n    <tr>\n      <th>5</th>\n      <td>600</td>\n      <td>2</td>\n      <td>1</td>\n      <td>4</td>\n      <td>10</td>\n      <td>2</td>\n      <td>6</td>\n      <td>0</td>\n      <td>0</td>\n      <td>99</td>\n      <td>...</td>\n      <td>5</td>\n      <td>0</td>\n      <td>1</td>\n      <td>0</td>\n      <td>1</td>\n      <td>1</td>\n      <td>1</td>\n      <td>0</td>\n      <td>1</td>\n      <td>1</td>\n    </tr>\n  </tbody>\n</table>\n<p>5 rows × 21 columns</p>\n</div>"
     },
     "execution_count": 421,
     "metadata": {},
     "output_type": "execute_result"
    }
   ],
   "source": [
    "data_dir = os.getcwd()\n",
    "amphibians_data = pd.read_csv(f\"{data_dir}//dataset.csv\",sep=\";\")\n",
    "\n",
    "# drop the first column\n",
    "amphibians_data.drop(axis=0, labels=0, inplace=True)\n",
    "\n",
    "\n",
    "# add new col names\n",
    "col_names = ['id', 'motorway', 'water_surface_m2', 'num_reservoir',\n",
    "             'type_reservoir', 'type_vegetation', 'type1_land_cover',\n",
    "             'type2_land_cover', 'type3_land_cover', 'reservoir_use',\n",
    "             'fishing_freq', 'area_access', 'road_dist', 'building_dist',\n",
    "             'maintenance_status', 'type_shore', 'green_frog', 'brown_frog',\n",
    "             'common_toad', 'fire_toad', 'tree_frog', 'common_newt',\n",
    "             'crested_nest']\n",
    "\n",
    "amphibians_data.columns = col_names\n",
    "\n",
    "# drop the cols id and motorway that arent used for learning\n",
    "amphibians_data.drop(axis=1, labels=['id', 'motorway'], inplace=True)\n",
    "\n",
    "amphibians_data.head()"
   ],
   "metadata": {
    "collapsed": false,
    "pycharm": {
     "name": "#%%\n"
    }
   }
  },
  {
   "cell_type": "code",
   "execution_count": 422,
   "outputs": [
    {
     "name": "stdout",
     "output_type": "stream",
     "text": [
      "<class 'pandas.core.frame.DataFrame'>\n",
      "Int64Index: 189 entries, 1 to 189\n",
      "Data columns (total 21 columns):\n",
      "water_surface_m2      189 non-null object\n",
      "num_reservoir         189 non-null object\n",
      "type_reservoir        189 non-null object\n",
      "type_vegetation       189 non-null object\n",
      "type1_land_cover      189 non-null object\n",
      "type2_land_cover      189 non-null object\n",
      "type3_land_cover      189 non-null object\n",
      "reservoir_use         189 non-null object\n",
      "fishing_freq          189 non-null object\n",
      "area_access           189 non-null object\n",
      "road_dist             189 non-null object\n",
      "building_dist         189 non-null object\n",
      "maintenance_status    189 non-null object\n",
      "type_shore            189 non-null object\n",
      "green_frog            189 non-null object\n",
      "brown_frog            189 non-null object\n",
      "common_toad           189 non-null object\n",
      "fire_toad             189 non-null object\n",
      "tree_frog             189 non-null object\n",
      "common_newt           189 non-null object\n",
      "crested_nest          189 non-null object\n",
      "dtypes: object(21)\n",
      "memory usage: 32.5+ KB\n"
     ]
    }
   ],
   "source": [
    "# check the info for the data types and null values of the cols\n",
    "amphibians_data.info()"
   ],
   "metadata": {
    "collapsed": false,
    "pycharm": {
     "name": "#%%\n"
    }
   }
  },
  {
   "cell_type": "code",
   "execution_count": 423,
   "outputs": [
    {
     "data": {
      "text/plain": "       water_surface_m2 num_reservoir type_reservoir type_vegetation  \\\ncount               189           189            189             189   \nunique               66            10              8               5   \ntop                 300             1              1               1   \nfreq                 47           148            116              55   \n\n       type1_land_cover type2_land_cover type3_land_cover reservoir_use  \\\ncount               189              189              189           189   \nunique                8                7                8             3   \ntop                   2               10                6             0   \nfreq                 70               44               55           130   \n\n       fishing_freq area_access  ... building_dist maintenance_status  \\\ncount           189         189  ...           189                189   \nunique            5           6  ...             6                  3   \ntop               0         100  ...             1                  0   \nfreq            125         141  ...            62                184   \n\n       type_shore green_frog brown_frog common_toad fire_toad tree_frog  \\\ncount         189        189        189         189       189       189   \nunique          2          2          2           2         2         2   \ntop             1          1          1           1         0         0   \nfreq          186        108        148         124       131       118   \n\n       common_newt crested_nest  \ncount          189          189  \nunique           2            2  \ntop              0            0  \nfreq           131          168  \n\n[4 rows x 21 columns]",
      "text/html": "<div>\n<style scoped>\n    .dataframe tbody tr th:only-of-type {\n        vertical-align: middle;\n    }\n\n    .dataframe tbody tr th {\n        vertical-align: top;\n    }\n\n    .dataframe thead th {\n        text-align: right;\n    }\n</style>\n<table border=\"1\" class=\"dataframe\">\n  <thead>\n    <tr style=\"text-align: right;\">\n      <th></th>\n      <th>water_surface_m2</th>\n      <th>num_reservoir</th>\n      <th>type_reservoir</th>\n      <th>type_vegetation</th>\n      <th>type1_land_cover</th>\n      <th>type2_land_cover</th>\n      <th>type3_land_cover</th>\n      <th>reservoir_use</th>\n      <th>fishing_freq</th>\n      <th>area_access</th>\n      <th>...</th>\n      <th>building_dist</th>\n      <th>maintenance_status</th>\n      <th>type_shore</th>\n      <th>green_frog</th>\n      <th>brown_frog</th>\n      <th>common_toad</th>\n      <th>fire_toad</th>\n      <th>tree_frog</th>\n      <th>common_newt</th>\n      <th>crested_nest</th>\n    </tr>\n  </thead>\n  <tbody>\n    <tr>\n      <th>count</th>\n      <td>189</td>\n      <td>189</td>\n      <td>189</td>\n      <td>189</td>\n      <td>189</td>\n      <td>189</td>\n      <td>189</td>\n      <td>189</td>\n      <td>189</td>\n      <td>189</td>\n      <td>...</td>\n      <td>189</td>\n      <td>189</td>\n      <td>189</td>\n      <td>189</td>\n      <td>189</td>\n      <td>189</td>\n      <td>189</td>\n      <td>189</td>\n      <td>189</td>\n      <td>189</td>\n    </tr>\n    <tr>\n      <th>unique</th>\n      <td>66</td>\n      <td>10</td>\n      <td>8</td>\n      <td>5</td>\n      <td>8</td>\n      <td>7</td>\n      <td>8</td>\n      <td>3</td>\n      <td>5</td>\n      <td>6</td>\n      <td>...</td>\n      <td>6</td>\n      <td>3</td>\n      <td>2</td>\n      <td>2</td>\n      <td>2</td>\n      <td>2</td>\n      <td>2</td>\n      <td>2</td>\n      <td>2</td>\n      <td>2</td>\n    </tr>\n    <tr>\n      <th>top</th>\n      <td>300</td>\n      <td>1</td>\n      <td>1</td>\n      <td>1</td>\n      <td>2</td>\n      <td>10</td>\n      <td>6</td>\n      <td>0</td>\n      <td>0</td>\n      <td>100</td>\n      <td>...</td>\n      <td>1</td>\n      <td>0</td>\n      <td>1</td>\n      <td>1</td>\n      <td>1</td>\n      <td>1</td>\n      <td>0</td>\n      <td>0</td>\n      <td>0</td>\n      <td>0</td>\n    </tr>\n    <tr>\n      <th>freq</th>\n      <td>47</td>\n      <td>148</td>\n      <td>116</td>\n      <td>55</td>\n      <td>70</td>\n      <td>44</td>\n      <td>55</td>\n      <td>130</td>\n      <td>125</td>\n      <td>141</td>\n      <td>...</td>\n      <td>62</td>\n      <td>184</td>\n      <td>186</td>\n      <td>108</td>\n      <td>148</td>\n      <td>124</td>\n      <td>131</td>\n      <td>118</td>\n      <td>131</td>\n      <td>168</td>\n    </tr>\n  </tbody>\n</table>\n<p>4 rows × 21 columns</p>\n</div>"
     },
     "execution_count": 423,
     "metadata": {},
     "output_type": "execute_result"
    }
   ],
   "source": [
    "# double check using descrbe\n",
    "amphibians_data.describe()"
   ],
   "metadata": {
    "collapsed": false,
    "pycharm": {
     "name": "#%%\n"
    }
   }
  },
  {
   "cell_type": "code",
   "execution_count": 424,
   "outputs": [
    {
     "name": "stdout",
     "output_type": "stream",
     "text": [
      "<class 'pandas.core.frame.DataFrame'>\n",
      "Int64Index: 189 entries, 1 to 189\n",
      "Data columns (total 21 columns):\n",
      "water_surface_m2      189 non-null float32\n",
      "num_reservoir         189 non-null float32\n",
      "type_reservoir        189 non-null object\n",
      "type_vegetation       189 non-null object\n",
      "type1_land_cover      189 non-null object\n",
      "type2_land_cover      189 non-null object\n",
      "type3_land_cover      189 non-null object\n",
      "reservoir_use         189 non-null object\n",
      "fishing_freq          189 non-null object\n",
      "area_access           189 non-null float32\n",
      "road_dist             189 non-null float32\n",
      "building_dist         189 non-null float32\n",
      "maintenance_status    189 non-null object\n",
      "type_shore            189 non-null object\n",
      "green_frog            189 non-null object\n",
      "brown_frog            189 non-null object\n",
      "common_toad           189 non-null object\n",
      "fire_toad             189 non-null object\n",
      "tree_frog             189 non-null object\n",
      "common_newt           189 non-null object\n",
      "crested_nest          189 non-null object\n",
      "dtypes: float32(5), object(16)\n",
      "memory usage: 28.8+ KB\n"
     ]
    }
   ],
   "source": [
    "# convert the numerical and ordinal cols to numerical and keep the categoricals\n",
    "# as objects\n",
    "numeric_cols_nos = [0, 1, 9, 10, 11]\n",
    "for col_no, col_name in enumerate(amphibians_data.columns):\n",
    "    if col_no in numeric_cols_nos:\n",
    "        amphibians_data[col_name] = amphibians_data[col_name].astype(np.float32)\n",
    "\n",
    "# after finishing look at the info\n",
    "amphibians_data.info()\n"
   ],
   "metadata": {
    "collapsed": false,
    "pycharm": {
     "name": "#%%\n"
    }
   }
  },
  {
   "cell_type": "code",
   "execution_count": 425,
   "outputs": [],
   "source": [
    "# at this point separate the targets and the features\n",
    "targets = amphibians_data.columns[-7:]\n",
    "X = amphibians_data[amphibians_data.columns[~amphibians_data.columns.isin(targets)]]\n",
    "Y = amphibians_data[targets].astype(np.float32)"
   ],
   "metadata": {
    "collapsed": false,
    "pycharm": {
     "name": "#%%\n"
    }
   }
  },
  {
   "cell_type": "code",
   "execution_count": 426,
   "outputs": [],
   "source": [
    "# these are the numerical or ordinal cols\n",
    "cols_to_standardise = [col_name\n",
    "                       for col_name in amphibians_data.columns\n",
    "                       if amphibians_data[col_name].dtype == np.float32 ]\n",
    "\n",
    "# these are the categorical cols\n",
    "cols_to_encode = \\\n",
    "    amphibians_data.columns[~amphibians_data.columns.isin(cols_to_standardise)\n",
    "                            & ~amphibians_data.columns.isin(Y.columns)]\n",
    "cols_to_encode = list(cols_to_encode)"
   ],
   "metadata": {
    "collapsed": false,
    "pycharm": {
     "name": "#%%\n"
    }
   }
  },
  {
   "cell_type": "code",
   "execution_count": 427,
   "outputs": [],
   "source": [
    "\n",
    "\n",
    "# instantiate the transoformers\n",
    "scaler = StandardScaler()\n",
    "ohe = OneHotEncoder()\n",
    "\n",
    "# chain the column transformer\n",
    "ct = make_column_transformer(\n",
    "    (scaler, cols_to_standardise),\n",
    "    (ohe, cols_to_encode),\n",
    "    remainder=\"passthrough\"\n",
    ")\n",
    "\n",
    "# # create the pipeline object\n",
    "# pipe_model = make_pipeline([\n",
    "#     ('standardise_onehot', ct),\n",
    "#     ('')\n",
    "# ])"
   ],
   "metadata": {
    "collapsed": false,
    "pycharm": {
     "name": "#%%\n"
    }
   }
  },
  {
   "cell_type": "code",
   "execution_count": 428,
   "outputs": [],
   "source": [
    "# transform all the features\n",
    "X_transformed = ct.fit_transform(X).toarray()"
   ],
   "metadata": {
    "collapsed": false,
    "pycharm": {
     "name": "#%%\n"
    }
   }
  },
  {
   "cell_type": "code",
   "execution_count": 429,
   "outputs": [],
   "source": [
    "# now do the data split for training process\n",
    "trainx, testx, trainy, testy = train_test_split(X_transformed,\n",
    "                                                Y.to_numpy(),\n",
    "                                                test_size=0.3,\n",
    "                                                random_state=42)"
   ],
   "metadata": {
    "collapsed": false,
    "pycharm": {
     "name": "#%%\n"
    }
   }
  },
  {
   "cell_type": "code",
   "execution_count": 430,
   "outputs": [],
   "source": [
    "def create_model(first_layer_size=256,\n",
    "                 multilabel_size=trainy.shape[1],\n",
    "                 stop_at = 256):\n",
    "\n",
    "    # create the nodes list\n",
    "    nodes = []\n",
    "    while first_layer_size % 2 == 0:\n",
    "        nodes.append(int(first_layer_size))\n",
    "        first_layer_size /= 2\n",
    "\n",
    "    # create a model\n",
    "    model = Sequential()\n",
    "    for node in nodes:\n",
    "        if node >= stop_at:\n",
    "                model.add(Dense(units=node, input_shape=(trainx.shape[1], )))\n",
    "                model.add(Activation(\"relu\"))\n",
    "                model.add(BatchNormalization())\n",
    "                model.add(Dropout(0.25))\n",
    "\n",
    "    model.add(Dense(units=multilabel_size))\n",
    "    model.add(Activation(\"sigmoid\"))\n",
    "    return model"
   ],
   "metadata": {
    "collapsed": false,
    "pycharm": {
     "name": "#%%\n"
    }
   }
  },
  {
   "cell_type": "code",
   "execution_count": 431,
   "outputs": [
    {
     "name": "stdout",
     "output_type": "stream",
     "text": [
      "Model: \"sequential_49\"\n",
      "_________________________________________________________________\n",
      "Layer (type)                 Output Shape              Param #   \n",
      "=================================================================\n",
      "dense_227 (Dense)            (None, 512)               28160     \n",
      "_________________________________________________________________\n",
      "activation_227 (Activation)  (None, 512)               0         \n",
      "_________________________________________________________________\n",
      "batch_normalization_131 (Bat (None, 512)               2048      \n",
      "_________________________________________________________________\n",
      "dropout_121 (Dropout)        (None, 512)               0         \n",
      "_________________________________________________________________\n",
      "dense_228 (Dense)            (None, 256)               131328    \n",
      "_________________________________________________________________\n",
      "activation_228 (Activation)  (None, 256)               0         \n",
      "_________________________________________________________________\n",
      "batch_normalization_132 (Bat (None, 256)               1024      \n",
      "_________________________________________________________________\n",
      "dropout_122 (Dropout)        (None, 256)               0         \n",
      "_________________________________________________________________\n",
      "dense_229 (Dense)            (None, 7)                 1799      \n",
      "_________________________________________________________________\n",
      "activation_229 (Activation)  (None, 7)                 0         \n",
      "=================================================================\n",
      "Total params: 164,359\n",
      "Trainable params: 162,823\n",
      "Non-trainable params: 1,536\n",
      "_________________________________________________________________\n"
     ]
    }
   ],
   "source": [
    "model = create_model(first_layer_size=512, stop_at=256)\n",
    "model.summary()"
   ],
   "metadata": {
    "collapsed": false,
    "pycharm": {
     "name": "#%%\n"
    }
   }
  },
  {
   "cell_type": "code",
   "execution_count": 432,
   "outputs": [],
   "source": [
    "# create our custom accuracy score\n",
    "def multilabel_accuracy(y_true, y_pred: tf.Tensor):\n",
    "\n",
    "\n",
    "    preds_binarised = tf.where(y_pred >= 0.5, 1.0, 0.0)\n",
    "\n",
    "    temp1 = y_true == preds_binarised\n",
    "    temp2 = tf.where(temp1 == True, 1.0, 0.0)\n",
    "\n",
    "    sum_array = K.sum(temp2, axis=1)\n",
    "    all_correct_rows = tf.where(sum_array == 7, 1.0, 0.0)\n",
    "    multilabel_accuracy_ = K.mean(all_correct_rows)\n",
    "\n",
    "    return multilabel_accuracy_\n",
    "\n"
   ],
   "metadata": {
    "collapsed": false,
    "pycharm": {
     "name": "#%%\n"
    }
   }
  },
  {
   "cell_type": "code",
   "execution_count": 433,
   "outputs": [
    {
     "name": "stdout",
     "output_type": "stream",
     "text": [
      "Train on 132 samples, validate on 57 samples\n",
      "Epoch 1/60\n",
      "132/132 [==============================] - 2s 13ms/sample - loss: 0.8983 - accuracy: 0.5260 - multilabel_accuracy: 0.0000e+00 - val_loss: 0.6971 - val_accuracy: 0.4762 - val_multilabel_accuracy: 0.0200\b\b\b\b\b\b\b\b\b\b\b\b\b\b\b\b\b\b\b\b\b\b\b\b\b\b\b\b\b\b\b\b\b\b\b\n",
      "Epoch 2/60\n",
      "132/132 [==============================] - 0s 423us/sample - loss: 0.7055 - accuracy: 0.6494 - multilabel_accuracy: 0.0437 - val_loss: 0.6844 - val_accuracy: 0.5940 - val_multilabel_accuracy: 0.0000e+00\b\b\b\b\b\b\b\b\b\b\b\b\b\b\b\b\b\b\b\b\b\b\b\b\b\b\b\b\b\b\b\b\b\b\n",
      "Epoch 3/60\n",
      "132/132 [==============================] - 0s 363us/sample - loss: 0.5942 - accuracy: 0.6991 - multilabel_accuracy: 0.0688 - val_loss: 0.6774 - val_accuracy: 0.5890 - val_multilabel_accuracy: 0.0000e+00\b\b\b\b\b\b\b\b\b\b\b\b\b\b\b\b\b\b\b\b\b\b\b\b\b\b\n",
      "Epoch 4/60\n",
      "132/132 [==============================] - 0s 310us/sample - loss: 0.5362 - accuracy: 0.7197 - multilabel_accuracy: 0.0750 - val_loss: 0.6696 - val_accuracy: 0.6140 - val_multilabel_accuracy: 0.0000e+00\b\b\b\b\b\b\b\b\b\b\b\b\b\b\b\b\b\b\b\b\b\b\b\b\b\b\n",
      "Epoch 5/60\n",
      "132/132 [==============================] - 0s 317us/sample - loss: 0.4901 - accuracy: 0.7630 - multilabel_accuracy: 0.1813 - val_loss: 0.6618 - val_accuracy: 0.6316 - val_multilabel_accuracy: 0.0156\b\b\b\b\b\b\b\b\b\b\b\b\b\b\b\b\b\b\b\b\b\b\b\b\b\b\b\b\b\b\n",
      "Epoch 6/60\n",
      "132/132 [==============================] - 0s 332us/sample - loss: 0.5080 - accuracy: 0.7684 - multilabel_accuracy: 0.1813 - val_loss: 0.6543 - val_accuracy: 0.6491 - val_multilabel_accuracy: 0.0000e+00\b\b\b\b\b\b\b\b\b\b\b\b\b\b\b\b\b\b\b\b\b\b\b\b\b\b\n",
      "Epoch 7/60\n",
      "132/132 [==============================] - 0s 310us/sample - loss: 0.4386 - accuracy: 0.7944 - multilabel_accuracy: 0.1688 - val_loss: 0.6475 - val_accuracy: 0.6441 - val_multilabel_accuracy: 0.0000e+00\b\b\b\b\b\b\b\b\b\b\b\b\b\b\b\b\b\b\b\b\b\b\b\b\b\b\n",
      "Epoch 8/60\n",
      "132/132 [==============================] - 0s 310us/sample - loss: 0.4239 - accuracy: 0.8019 - multilabel_accuracy: 0.2313 - val_loss: 0.6422 - val_accuracy: 0.6416 - val_multilabel_accuracy: 0.0000e+00\b\b\b\b\b\b\b\b\b\b\b\b\b\b\b\b\b\b\b\b\b\b\b\b\b\b\n",
      "Epoch 9/60\n",
      "132/132 [==============================] - 0s 307us/sample - loss: 0.4018 - accuracy: 0.8149 - multilabel_accuracy: 0.2375 - val_loss: 0.6357 - val_accuracy: 0.6441 - val_multilabel_accuracy: 0.0000e+00\b\b\b\b\b\b\b\b\b\b\b\b\b\b\b\b\b\b\b\b\b\b\b\b\b\b\n",
      "Epoch 10/60\n",
      "132/132 [==============================] - 0s 302us/sample - loss: 0.3772 - accuracy: 0.8463 - multilabel_accuracy: 0.2750 - val_loss: 0.6301 - val_accuracy: 0.6441 - val_multilabel_accuracy: 0.0000e+00\b\b\b\b\b\b\b\b\b\b\b\b\b\b\b\b\b\b\b\b\b\b\b\b\b\b\n",
      "Epoch 11/60\n",
      "132/132 [==============================] - 0s 332us/sample - loss: 0.3638 - accuracy: 0.8582 - multilabel_accuracy: 0.3000 - val_loss: 0.6263 - val_accuracy: 0.6541 - val_multilabel_accuracy: 0.0000e+00\b\b\b\b\b\b\b\b\b\b\b\b\b\b\b\b\b\b\b\b\b\b\b\b\b\b\n",
      "Epoch 12/60\n",
      "132/132 [==============================] - 0s 347us/sample - loss: 0.3697 - accuracy: 0.8387 - multilabel_accuracy: 0.3063 - val_loss: 0.6247 - val_accuracy: 0.6516 - val_multilabel_accuracy: 0.0156\b\b\b\b\b\b\b\b\b\b\b\b\b\b\b\b\b\b\b\b\b\b\b\b\b\b\b\b\b\b\n",
      "Epoch 13/60\n",
      "132/132 [==============================] - 0s 340us/sample - loss: 0.3345 - accuracy: 0.8615 - multilabel_accuracy: 0.3500 - val_loss: 0.6213 - val_accuracy: 0.6541 - val_multilabel_accuracy: 0.0156\b\b\b\b\b\b\b\b\b\b\b\b\b\b\b\b\b\b\b\b\b\b\b\b\b\b\b\b\b\b\n",
      "Epoch 14/60\n",
      "132/132 [==============================] - 0s 370us/sample - loss: 0.3211 - accuracy: 0.8669 - multilabel_accuracy: 0.2875 - val_loss: 0.6180 - val_accuracy: 0.6516 - val_multilabel_accuracy: 0.0156\b\b\b\b\b\b\b\b\b\b\b\b\b\b\b\b\b\b\b\b\b\b\b\b\b\b\b\b\b\b\n",
      "Epoch 15/60\n",
      "132/132 [==============================] - 0s 340us/sample - loss: 0.3249 - accuracy: 0.8680 - multilabel_accuracy: 0.3812 - val_loss: 0.6143 - val_accuracy: 0.6541 - val_multilabel_accuracy: 0.0156\b\b\b\b\b\b\b\b\b\b\b\b\b\b\b\b\b\b\b\b\b\b\b\b\b\b\b\b\b\b\n",
      "Epoch 16/60\n",
      "132/132 [==============================] - 0s 416us/sample - loss: 0.2928 - accuracy: 0.8929 - multilabel_accuracy: 0.4437 - val_loss: 0.6113 - val_accuracy: 0.6541 - val_multilabel_accuracy: 0.0000e+00\b\b\b\b\b\b\b\b\b\b\b\b\b\b\b\b\b\b\b\b\b\b\b\b\b\b\n",
      "Epoch 17/60\n",
      "132/132 [==============================] - 0s 416us/sample - loss: 0.2721 - accuracy: 0.9102 - multilabel_accuracy: 0.5250 - val_loss: 0.6098 - val_accuracy: 0.6466 - val_multilabel_accuracy: 0.0156\b\b\b\b\b\b\b\b\b\b\b\b\b\b\b\b\b\b\b\b\b\b\b\b\b\b\b\b\b\b\n",
      "Epoch 18/60\n",
      "132/132 [==============================] - 0s 366us/sample - loss: 0.2935 - accuracy: 0.8745 - multilabel_accuracy: 0.3562 - val_loss: 0.6070 - val_accuracy: 0.6491 - val_multilabel_accuracy: 0.0156\b\b\b\b\b\b\b\b\b\b\b\b\b\b\b\b\b\b\b\b\b\b\b\b\b\b\b\b\b\b\n",
      "Epoch 19/60\n",
      "132/132 [==============================] - 0s 478us/sample - loss: 0.2707 - accuracy: 0.9048 - multilabel_accuracy: 0.5188 - val_loss: 0.6050 - val_accuracy: 0.6491 - val_multilabel_accuracy: 0.0156\b\b\b\b\b\b\b\b\b\b\b\b\b\b\b\b\b\b\b\b\b\b\b\b\b\b\b\b\b\b\n",
      "Epoch 20/60\n",
      "132/132 [==============================] - 0s 370us/sample - loss: 0.2485 - accuracy: 0.9080 - multilabel_accuracy: 0.4625 - val_loss: 0.6025 - val_accuracy: 0.6566 - val_multilabel_accuracy: 0.0356\b\b\b\b\b\b\b\b\b\b\b\b\b\b\b\b\b\b\b\b\b\b\b\b\b\b\b\b\b\b\n",
      "Epoch 21/60\n",
      "132/132 [==============================] - 0s 363us/sample - loss: 0.2606 - accuracy: 0.8961 - multilabel_accuracy: 0.5063 - val_loss: 0.6020 - val_accuracy: 0.6516 - val_multilabel_accuracy: 0.0000e+00\b\b\b\b\b\b\b\b\b\b\b\b\b\b\b\b\b\b\b\b\b\b\b\b\b\b\n",
      "Epoch 22/60\n",
      "132/132 [==============================] - 0s 378us/sample - loss: 0.2471 - accuracy: 0.9167 - multilabel_accuracy: 0.6187 - val_loss: 0.6012 - val_accuracy: 0.6466 - val_multilabel_accuracy: 0.0156\b\b\b\b\b\b\b\b\b\b\b\b\b\b\b\b\b\b\b\b\b\b\b\b\b\b\b\b\b\b\n",
      "Epoch 23/60\n",
      "132/132 [==============================] - 0s 363us/sample - loss: 0.2420 - accuracy: 0.9102 - multilabel_accuracy: 0.4375 - val_loss: 0.5974 - val_accuracy: 0.6466 - val_multilabel_accuracy: 0.0156\b\b\b\b\b\b\b\b\b\b\b\b\b\b\b\b\b\b\b\b\b\b\b\b\b\b\b\b\b\b\n",
      "Epoch 24/60\n",
      "132/132 [==============================] - 0s 431us/sample - loss: 0.2204 - accuracy: 0.9307 - multilabel_accuracy: 0.5500 - val_loss: 0.5961 - val_accuracy: 0.6416 - val_multilabel_accuracy: 0.0156\b\b\b\b\b\b\b\b\b\b\b\b\b\b\b\b\b\b\b\b\b\b\b\b\b\b\b\b\b\b\n",
      "Epoch 25/60\n",
      "132/132 [==============================] - 0s 325us/sample - loss: 0.2173 - accuracy: 0.9351 - multilabel_accuracy: 0.6000 - val_loss: 0.5923 - val_accuracy: 0.6566 - val_multilabel_accuracy: 0.0312\b\b\b\b\b\b\b\b\b\b\b\b\b\b\b\b\b\b\b\b\b\b\b\b\b\b\b\b\b\b\n",
      "Epoch 26/60\n",
      "132/132 [==============================] - 0s 431us/sample - loss: 0.2099 - accuracy: 0.9264 - multilabel_accuracy: 0.5625 - val_loss: 0.5897 - val_accuracy: 0.6516 - val_multilabel_accuracy: 0.0312\b\b\b\b\b\b\b\b\b\b\b\b\b\b\b\b\b\b\b\b\b\b\b\b\b\b\b\b\b\b\n",
      "Epoch 27/60\n",
      "132/132 [==============================] - 0s 567us/sample - loss: 0.2040 - accuracy: 0.9351 - multilabel_accuracy: 0.6250 - val_loss: 0.5886 - val_accuracy: 0.6717 - val_multilabel_accuracy: 0.0312\b\b\b\b\b\b\b\b\b\b\b\b\b\b\b\b\b\b\b\b\b\b\b\b\b\b\b\b\b\b\n",
      "Epoch 28/60\n",
      "132/132 [==============================] - 0s 461us/sample - loss: 0.2026 - accuracy: 0.9318 - multilabel_accuracy: 0.5875 - val_loss: 0.5870 - val_accuracy: 0.6767 - val_multilabel_accuracy: 0.0469\b\b\b\b\b\b\b\b\b\b\b\b\b\b\b\b\b\b\b\b\b\b\b\b\b\b\b\b\b\b\n",
      "Epoch 29/60\n",
      "132/132 [==============================] - 0s 486us/sample - loss: 0.2013 - accuracy: 0.9383 - multilabel_accuracy: 0.6250 - val_loss: 0.5862 - val_accuracy: 0.6742 - val_multilabel_accuracy: 0.0156\b\b\b\b\b\b\b\b\b\b\b\b\b\b\b\b\b\b\b\b\b\b\b\b\b\b\b\b\b\b\n",
      "Epoch 30/60\n",
      "132/132 [==============================] - 0s 426us/sample - loss: 0.1885 - accuracy: 0.9437 - multilabel_accuracy: 0.6938 - val_loss: 0.5850 - val_accuracy: 0.6692 - val_multilabel_accuracy: 0.0156\b\b\b\b\b\b\b\b\b\b\b\b\b\b\b\b\b\b\b\b\b\b\b\b\b\b\b\b\b\b\n",
      "Epoch 31/60\n",
      "132/132 [==============================] - 0s 453us/sample - loss: 0.2122 - accuracy: 0.9351 - multilabel_accuracy: 0.6062 - val_loss: 0.5841 - val_accuracy: 0.6692 - val_multilabel_accuracy: 0.0156\b\b\b\b\b\b\b\b\b\b\b\b\b\b\b\b\b\b\b\b\b\b\b\b\b\b\b\b\b\b\n",
      "Epoch 32/60\n",
      "132/132 [==============================] - 0s 448us/sample - loss: 0.1783 - accuracy: 0.9340 - multilabel_accuracy: 0.6062 - val_loss: 0.5837 - val_accuracy: 0.6792 - val_multilabel_accuracy: 0.0669\b\b\b\b\b\b\b\b\b\b\b\b\b\b\b\b\b\b\b\b\b\b\b\b\b\b\b\b\b\b\n",
      "Epoch 33/60\n",
      "132/132 [==============================] - 0s 445us/sample - loss: 0.1766 - accuracy: 0.9448 - multilabel_accuracy: 0.5562 - val_loss: 0.5830 - val_accuracy: 0.6767 - val_multilabel_accuracy: 0.0825\b\b\b\b\b\b\b\b\b\b\b\b\b\b\b\b\b\b\b\b\b\b\b\b\b\b\b\b\b\b\n",
      "Epoch 34/60\n",
      "132/132 [==============================] - 0s 468us/sample - loss: 0.1674 - accuracy: 0.9535 - multilabel_accuracy: 0.6500 - val_loss: 0.5812 - val_accuracy: 0.6817 - val_multilabel_accuracy: 0.0825\b\b\b\b\b\b\b\b\b\b\b\b\b\b\b\b\b\b\b\b\b\b\b\b\b\b\b\b\b\b\n",
      "Epoch 35/60\n",
      "132/132 [==============================] - 0s 438us/sample - loss: 0.1713 - accuracy: 0.9470 - multilabel_accuracy: 0.6125 - val_loss: 0.5794 - val_accuracy: 0.6742 - val_multilabel_accuracy: 0.0669\b\b\b\b\b\b\b\b\b\b\b\b\b\b\b\b\b\b\b\b\b\b\b\b\b\b\b\b\b\b\n",
      "Epoch 36/60\n",
      "132/132 [==============================] - 0s 450us/sample - loss: 0.1663 - accuracy: 0.9459 - multilabel_accuracy: 0.6250 - val_loss: 0.5780 - val_accuracy: 0.6792 - val_multilabel_accuracy: 0.0825\b\b\b\b\b\b\b\b\b\b\b\b\b\b\b\b\b\b\b\b\b\b\b\b\b\b\b\b\b\b\n",
      "Epoch 37/60\n",
      "132/132 [==============================] - 0s 431us/sample - loss: 0.1561 - accuracy: 0.9589 - multilabel_accuracy: 0.7125 - val_loss: 0.5765 - val_accuracy: 0.6842 - val_multilabel_accuracy: 0.0825\b\b\b\b\b\b\b\b\b\b\b\b\b\b\b\b\b\b\b\b\b\b\b\b\b\b\b\b\b\b\n",
      "Epoch 38/60\n",
      "132/132 [==============================] - 0s 495us/sample - loss: 0.1414 - accuracy: 0.9643 - multilabel_accuracy: 0.7312 - val_loss: 0.5756 - val_accuracy: 0.6867 - val_multilabel_accuracy: 0.0825\b\b\b\b\b\b\b\b\b\b\b\b\b\b\b\b\b\b\b\b\b\b\b\b\b\b\b\b\b\b\n",
      "Epoch 39/60\n",
      "132/132 [==============================] - 0s 454us/sample - loss: 0.1568 - accuracy: 0.9535 - multilabel_accuracy: 0.6625 - val_loss: 0.5762 - val_accuracy: 0.7018 - val_multilabel_accuracy: 0.0825\b\b\b\b\b\b\b\b\b\b\b\b\b\b\b\b\b\b\b\b\b\b\b\b\b\b\b\b\b\b\n",
      "Epoch 40/60\n",
      "132/132 [==============================] - 0s 435us/sample - loss: 0.1427 - accuracy: 0.9578 - multilabel_accuracy: 0.7688 - val_loss: 0.5761 - val_accuracy: 0.6992 - val_multilabel_accuracy: 0.0825\b\b\b\b\b\b\b\b\b\b\b\b\b\b\b\b\b\b\b\b\b\b\b\b\b\b\b\b\b\b\n",
      "Epoch 41/60\n",
      "132/132 [==============================] - 0s 438us/sample - loss: 0.1407 - accuracy: 0.9567 - multilabel_accuracy: 0.7750 - val_loss: 0.5776 - val_accuracy: 0.7018 - val_multilabel_accuracy: 0.0825\b\b\b\b\b\b\b\b\b\b\b\b\b\b\b\b\b\b\b\b\b\b\b\b\b\b\b\b\b\b\n",
      "Epoch 42/60\n",
      "132/132 [==============================] - 0s 493us/sample - loss: 0.1348 - accuracy: 0.9686 - multilabel_accuracy: 0.7625 - val_loss: 0.5790 - val_accuracy: 0.6967 - val_multilabel_accuracy: 0.0825\b\b\b\b\b\b\b\b\b\b\b\b\b\b\b\b\b\b\b\b\b\b\b\b\b\b\b\b\b\b\n",
      "Epoch 43/60\n",
      "132/132 [==============================] - 0s 484us/sample - loss: 0.1178 - accuracy: 0.9773 - multilabel_accuracy: 0.8375 - val_loss: 0.5789 - val_accuracy: 0.6917 - val_multilabel_accuracy: 0.0981\b\b\b\b\b\b\b\b\b\b\b\b\b\b\b\b\b\b\b\b\b\b\b\b\b\b\b\b\b\b\n",
      "Epoch 44/60\n",
      "132/132 [==============================] - 0s 457us/sample - loss: 0.1324 - accuracy: 0.9589 - multilabel_accuracy: 0.7188 - val_loss: 0.5784 - val_accuracy: 0.6917 - val_multilabel_accuracy: 0.0981\b\b\b\b\b\b\b\b\b\b\b\b\b\b\b\b\b\b\b\b\b\b\b\b\b\b\b\b\b\b\n",
      "Epoch 45/60\n",
      "132/132 [==============================] - 0s 419us/sample - loss: 0.1267 - accuracy: 0.9729 - multilabel_accuracy: 0.6938 - val_loss: 0.5808 - val_accuracy: 0.6867 - val_multilabel_accuracy: 0.0825\b\b\b\b\b\b\b\b\b\b\b\b\b\b\b\b\b\b\b\b\b\b\b\b\b\b\b\b\b\b\n",
      "Epoch 46/60\n",
      "132/132 [==============================] - 0s 436us/sample - loss: 0.1273 - accuracy: 0.9665 - multilabel_accuracy: 0.7250 - val_loss: 0.5814 - val_accuracy: 0.7018 - val_multilabel_accuracy: 0.0981\b\b\b\b\b\b\b\b\b\b\b\b\b\b\b\b\b\b\b\b\b\b\b\b\b\b\b\b\b\b\n",
      "Epoch 47/60\n",
      "132/132 [==============================] - 0s 461us/sample - loss: 0.1169 - accuracy: 0.9719 - multilabel_accuracy: 0.8062 - val_loss: 0.5825 - val_accuracy: 0.6942 - val_multilabel_accuracy: 0.1337\b\b\b\b\b\b\b\b\b\b\b\b\b\b\b\b\b\b\b\b\b\b\b\b\b\b\b\b\b\b\n",
      "Epoch 48/60\n",
      "132/132 [==============================] - 0s 501us/sample - loss: 0.1327 - accuracy: 0.9665 - multilabel_accuracy: 0.6875 - val_loss: 0.5843 - val_accuracy: 0.6842 - val_multilabel_accuracy: 0.1025\b\b\b\b\b\b\b\b\b\b\b\b\b\b\b\b\b\b\b\b\b\b\b\b\b\b\b\b\b\b\n",
      "Epoch 49/60\n",
      "132/132 [==============================] - 0s 423us/sample - loss: 0.1117 - accuracy: 0.9784 - multilabel_accuracy: 0.8375 - val_loss: 0.5859 - val_accuracy: 0.6917 - val_multilabel_accuracy: 0.1025\b\b\b\b\b\b\b\b\b\b\b\b\b\b\b\b\b\b\b\b\b\b\b\b\b\b\b\b\b\b\n",
      "Epoch 50/60\n",
      "132/132 [==============================] - 0s 416us/sample - loss: 0.1141 - accuracy: 0.9719 - multilabel_accuracy: 0.8062 - val_loss: 0.5887 - val_accuracy: 0.6917 - val_multilabel_accuracy: 0.1025\b\b\b\b\b\b\b\b\b\b\b\b\b\b\b\b\b\b\b\b\b\b\b\b\b\b\b\b\b\b\n",
      "Epoch 51/60\n",
      "132/132 [==============================] - 0s 393us/sample - loss: 0.1296 - accuracy: 0.9654 - multilabel_accuracy: 0.7063 - val_loss: 0.5926 - val_accuracy: 0.6892 - val_multilabel_accuracy: 0.1025\b\b\b\b\b\b\b\b\b\b\b\b\b\b\b\b\b\b\b\b\b\b\b\b\b\b\b\b\b\b\n",
      "Epoch 52/60\n",
      "132/132 [==============================] - 0s 393us/sample - loss: 0.1076 - accuracy: 0.9751 - multilabel_accuracy: 0.7812 - val_loss: 0.5990 - val_accuracy: 0.6867 - val_multilabel_accuracy: 0.1025\b\b\b\b\b\b\b\b\b\b\b\b\b\b\b\b\b\b\b\b\b\b\b\b\b\b\b\b\b\b\n",
      "Epoch 53/60\n",
      "132/132 [==============================] - 0s 393us/sample - loss: 0.1074 - accuracy: 0.9762 - multilabel_accuracy: 0.8438 - val_loss: 0.6014 - val_accuracy: 0.6842 - val_multilabel_accuracy: 0.1181\b\b\b\b\b\b\b\b\b\b\b\b\b\b\b\b\b\b\b\b\b\b\b\b\b\b\b\b\b\b\n",
      "Epoch 54/60\n",
      "132/132 [==============================] - 0s 408us/sample - loss: 0.1537 - accuracy: 0.9502 - multilabel_accuracy: 0.6812 - val_loss: 0.6048 - val_accuracy: 0.6742 - val_multilabel_accuracy: 0.1181\b\b\b\b\b\b\b\b\b\b\b\b\b\b\b\b\b\b\b\b\b\b\b\b\b\b\b\b\b\b\n",
      "Epoch 55/60\n",
      "132/132 [==============================] - 0s 378us/sample - loss: 0.1183 - accuracy: 0.9665 - multilabel_accuracy: 0.7188 - val_loss: 0.6051 - val_accuracy: 0.6842 - val_multilabel_accuracy: 0.0981\b\b\b\b\b\b\b\b\b\b\b\b\b\b\b\b\b\b\b\b\b\b\b\b\b\b\b\b\b\b\n",
      "Epoch 56/60\n",
      "132/132 [==============================] - 0s 400us/sample - loss: 0.1089 - accuracy: 0.9719 - multilabel_accuracy: 0.6875 - val_loss: 0.6073 - val_accuracy: 0.6917 - val_multilabel_accuracy: 0.1181\b\b\b\b\b\b\b\b\b\b\b\b\b\b\b\b\b\b\b\b\b\b\b\b\b\b\b\b\b\b\n",
      "Epoch 57/60\n",
      "132/132 [==============================] - 0s 378us/sample - loss: 0.1080 - accuracy: 0.9751 - multilabel_accuracy: 0.7375 - val_loss: 0.6083 - val_accuracy: 0.6892 - val_multilabel_accuracy: 0.1181\b\b\b\b\b\b\b\b\b\b\b\b\b\b\b\b\b\b\b\b\b\b\b\b\b\b\b\b\b\b\n",
      "Epoch 58/60\n",
      "132/132 [==============================] - 0s 393us/sample - loss: 0.0967 - accuracy: 0.9773 - multilabel_accuracy: 0.7500 - val_loss: 0.6102 - val_accuracy: 0.6817 - val_multilabel_accuracy: 0.1181\b\b\b\b\b\b\b\b\b\b\b\b\b\b\b\b\b\b\b\b\b\b\b\b\b\b\b\b\b\b\n",
      "Epoch 59/60\n",
      "132/132 [==============================] - 0s 370us/sample - loss: 0.0965 - accuracy: 0.9773 - multilabel_accuracy: 0.7500 - val_loss: 0.6135 - val_accuracy: 0.6967 - val_multilabel_accuracy: 0.1381\b\b\b\b\b\b\b\b\b\b\b\b\b\b\b\b\b\b\b\b\b\b\b\b\b\b\b\b\b\b\n",
      "Epoch 60/60\n",
      "132/132 [==============================] - 0s 423us/sample - loss: 0.1110 - accuracy: 0.9708 - multilabel_accuracy: 0.7688 - val_loss: 0.6164 - val_accuracy: 0.7043 - val_multilabel_accuracy: 0.1381\b\b\b\b\b\b\b\b\b\b\b\b\b\b\b\b\b\b\b\b\b\b\b\b\b\b\b\b\b\b\n"
     ]
    }
   ],
   "source": [
    "# init some global variables\n",
    "epochs = 60\n",
    "init_lr = 1e-3\n",
    "\n",
    "\n",
    "# compile the model and start training\n",
    "opt = Adam(learning_rate=init_lr, decay=init_lr/epochs)\n",
    "model.compile(optimizer=opt,\n",
    "              loss='binary_crossentropy',\n",
    "              metrics=['accuracy', multilabel_accuracy])\n",
    "\n",
    "H = model.fit(trainx, trainy,\n",
    "              validation_data=(testx, testy),\n",
    "              verbose=1,\n",
    "              epochs=epochs)"
   ],
   "metadata": {
    "collapsed": false,
    "pycharm": {
     "name": "#%%\n"
    }
   }
  },
  {
   "cell_type": "code",
   "execution_count": 434,
   "outputs": [
    {
     "data": {
      "text/plain": "<Figure size 1080x576 with 1 Axes>",
      "image/png": "[encoded data removed]"
     },
     "metadata": {},
     "output_type": "display_data"
    }
   ],
   "source": [
    "# evaluate the network\n",
    "# print ( \"[INFO] evaluating network...\" )\n",
    "# predictions = model.predict(testx)\n",
    "# print (classification_report(testy.argmax(axis=1 ),\n",
    "# predictions.argmax(axis=1 ), target_names=classNames))\n",
    "\n",
    "\n",
    "# plot the performance\n",
    "epoch_num = range(1,epochs+1)\n",
    "loss = H.history['loss']\n",
    "accuracy = H.history['multilabel_accuracy']\n",
    "val_loss = H.history['val_loss']\n",
    "val_accuracy = H.history['val_multilabel_accuracy']\n",
    "plot_df = pd.DataFrame(data=np.c_[epoch_num,\n",
    "                                  loss,accuracy,\n",
    "                                  val_loss,\n",
    "                                  val_accuracy],\n",
    "                       columns=['epochs','loss', 'accuracy', 'val_loss', 'val_accuracy'])\n",
    "\n",
    "# do the actual plots\n",
    "sns.set(font_scale=1)\n",
    "f, ax = plt.subplots(1, 1, figsize=(15,8))\n",
    "sns.lineplot(data=plot_df, x='epochs', y='loss', ax=ax, label='train loss', linewidth=3)\n",
    "sns.lineplot(data=plot_df, x='epochs', y='accuracy', ax=ax, label='train accuracy', linewidth=3)\n",
    "sns.lineplot(data=plot_df, x='epochs', y='val_loss', ax=ax, label='val loss', linewidth=3)\n",
    "sns.lineplot(data=plot_df, x='epochs', y='val_accuracy', ax=ax, label='val_accuracy', linewidth=3)\n",
    "ax.set_ylabel('Loss or Accuracy')\n",
    "ax.set_xlabel('Epochs')\n",
    "plt.setp(ax.get_legend().get_texts(), fontsize='18'); # for legend text"
   ],
   "metadata": {
    "collapsed": false,
    "pycharm": {
     "name": "#%%\n"
    }
   }
  },
  {
   "cell_type": "code",
   "execution_count": 435,
   "outputs": [
    {
     "data": {
      "text/plain": "[0.02,\n 0.0,\n 0.0,\n 0.0,\n 0.015625,\n 0.0,\n 0.0,\n 0.0,\n 0.0,\n 0.0,\n 0.0,\n 0.015625,\n 0.015625,\n 0.015625,\n 0.015625,\n 0.0,\n 0.015625,\n 0.015625,\n 0.015625,\n 0.035625,\n 0.0,\n 0.015625,\n 0.015625,\n 0.015625,\n 0.03125,\n 0.03125,\n 0.03125,\n 0.046875,\n 0.015625,\n 0.015625,\n 0.015625,\n 0.066874996,\n 0.082499996,\n 0.082499996,\n 0.066874996,\n 0.082499996,\n 0.082499996,\n 0.082499996,\n 0.082499996,\n 0.082499996,\n 0.082499996,\n 0.082499996,\n 0.098124996,\n 0.098124996,\n 0.082499996,\n 0.098124996,\n 0.13374999,\n 0.1025,\n 0.1025,\n 0.1025,\n 0.1025,\n 0.1025,\n 0.118125,\n 0.118125,\n 0.098124996,\n 0.118125,\n 0.118125,\n 0.118125,\n 0.138125,\n 0.138125]"
     },
     "execution_count": 435,
     "metadata": {},
     "output_type": "execute_result"
    }
   ],
   "source": [
    "H.history['val_multilabel_accuracy']"
   ],
   "metadata": {
    "collapsed": false,
    "pycharm": {
     "name": "#%%\n"
    }
   }
  },
  {
   "cell_type": "code",
   "execution_count": 435,
   "outputs": [],
   "source": [],
   "metadata": {
    "collapsed": false,
    "pycharm": {
     "name": "#%%\n"
    }
   }
  }
 ],
 "metadata": {
  "kernelspec": {
   "display_name": "Python 3",
   "language": "python",
   "name": "python3"
  },
  "language_info": {
   "codemirror_mode": {
    "name": "ipython",
    "version": 2
   },
   "file_extension": ".py",
   "mimetype": "text/x-python",
   "name": "python",
   "nbconvert_exporter": "python",
   "pygments_lexer": "ipython2",
   "version": "2.7.6"
  }
 },
 "nbformat": 4,
 "nbformat_minor": 0
}