{
 "cells": [
  {
   "cell_type": "code",
   "execution_count": 1,
   "metadata": {
    "collapsed": true,
    "pycharm": {
     "is_executing": false
    }
   },
   "outputs": [],
   "source": [
    "import requests as re\n",
    "CLIENT_ID = r'MYP5LS452CUPIMYZU1XWFTI3BN3J2COWMU3UP5BADYU1J55G'\n",
    "CLIENT_SECRET = r'SDG1AUOYAOQ0QB0KDFUD0U21CLEMMVD4WRAAB5HJARXXPBRL'\n",
    "VERSION = '20180604'\n",
    "LIMIT = 30\n",
    "base_url = r'https://api.foursquare.com/v2/'\n",
    "auth_str = f'&client_id={CLIENT_ID}&client_secret={CLIENT_SECRET}&v={VERSION}'"
   ]
  },
  {
   "cell_type": "code",
   "execution_count": null,
   "outputs": [],
   "source": [],
   "metadata": {
    "collapsed": false,
    "pycharm": {
     "name": "#%%\n"
    }
   }
  }
 ],
 "metadata": {
  "kernelspec": {
   "display_name": "Python 3",
   "language": "python",
   "name": "python3"
  },
  "language_info": {
   "codemirror_mode": {
    "name": "ipython",
    "version": 2
   },
   "file_extension": ".py",
   "mimetype": "text/x-python",
   "name": "python",
   "nbconvert_exporter": "python",
   "pygments_lexer": "ipython2",
   "version": "2.7.6"
  },
  "pycharm": {
   "stem_cell": {
    "cell_type": "raw",
    "source": [],
    "metadata": {
     "collapsed": false
    }
   }
  }
 },
 "nbformat": 4,
 "nbformat_minor": 0
}