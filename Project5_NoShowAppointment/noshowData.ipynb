{
 "cells": [
  {
   "cell_type": "code",
   "execution_count": 1,
   "metadata": {
    "pycharm": {
     "is_executing": false
    }
   },
   "outputs": [],
   "source": [
    "import pandas as pd\n",
    "import numpy as np\n"
   ]
  },
  {
   "cell_type": "code",
   "execution_count": 2,
   "metadata": {
    "pycharm": {
     "is_executing": false,
     "name": "#%%\n"
    }
   },
   "outputs": [
    {
     "data": {
      "text/plain": "      PatientId  AppointmentID Gender          ScheduledDay  \\\n0  2.987250e+13        5642903      F  2016-04-29T18:38:08Z   \n1  5.589978e+14        5642503      M  2016-04-29T16:08:27Z   \n2  4.262962e+12        5642549      F  2016-04-29T16:19:04Z   \n3  8.679512e+11        5642828      F  2016-04-29T17:29:31Z   \n4  8.841186e+12        5642494      F  2016-04-29T16:07:23Z   \n\n         AppointmentDay  Age      Neighbourhood  Scholarship  Hipertension  \\\n0  2016-04-29T00:00:00Z   62    JARDIM DA PENHA            0             1   \n1  2016-04-29T00:00:00Z   56    JARDIM DA PENHA            0             0   \n2  2016-04-29T00:00:00Z   62      MATA DA PRAIA            0             0   \n3  2016-04-29T00:00:00Z    8  PONTAL DE CAMBURI            0             0   \n4  2016-04-29T00:00:00Z   56    JARDIM DA PENHA            0             1   \n\n   Diabetes  Alcoholism  Handcap  SMS_received No-show  \n0         0           0        0             0      No  \n1         0           0        0             0      No  \n2         0           0        0             0      No  \n3         0           0        0             0      No  \n4         1           0        0             0      No  ",
      "text/html": "<div>\n<style scoped>\n    .dataframe tbody tr th:only-of-type {\n        vertical-align: middle;\n    }\n\n    .dataframe tbody tr th {\n        vertical-align: top;\n    }\n\n    .dataframe thead th {\n        text-align: right;\n    }\n</style>\n<table border=\"1\" class=\"dataframe\">\n  <thead>\n    <tr style=\"text-align: right;\">\n      <th></th>\n      <th>PatientId</th>\n      <th>AppointmentID</th>\n      <th>Gender</th>\n      <th>ScheduledDay</th>\n      <th>AppointmentDay</th>\n      <th>Age</th>\n      <th>Neighbourhood</th>\n      <th>Scholarship</th>\n      <th>Hipertension</th>\n      <th>Diabetes</th>\n      <th>Alcoholism</th>\n      <th>Handcap</th>\n      <th>SMS_received</th>\n      <th>No-show</th>\n    </tr>\n  </thead>\n  <tbody>\n    <tr>\n      <th>0</th>\n      <td>2.987250e+13</td>\n      <td>5642903</td>\n      <td>F</td>\n      <td>2016-04-29T18:38:08Z</td>\n      <td>2016-04-29T00:00:00Z</td>\n      <td>62</td>\n      <td>JARDIM DA PENHA</td>\n      <td>0</td>\n      <td>1</td>\n      <td>0</td>\n      <td>0</td>\n      <td>0</td>\n      <td>0</td>\n      <td>No</td>\n    </tr>\n    <tr>\n      <th>1</th>\n      <td>5.589978e+14</td>\n      <td>5642503</td>\n      <td>M</td>\n      <td>2016-04-29T16:08:27Z</td>\n      <td>2016-04-29T00:00:00Z</td>\n      <td>56</td>\n      <td>JARDIM DA PENHA</td>\n      <td>0</td>\n      <td>0</td>\n      <td>0</td>\n      <td>0</td>\n      <td>0</td>\n      <td>0</td>\n      <td>No</td>\n    </tr>\n    <tr>\n      <th>2</th>\n      <td>4.262962e+12</td>\n      <td>5642549</td>\n      <td>F</td>\n      <td>2016-04-29T16:19:04Z</td>\n      <td>2016-04-29T00:00:00Z</td>\n      <td>62</td>\n      <td>MATA DA PRAIA</td>\n      <td>0</td>\n      <td>0</td>\n      <td>0</td>\n      <td>0</td>\n      <td>0</td>\n      <td>0</td>\n      <td>No</td>\n    </tr>\n    <tr>\n      <th>3</th>\n      <td>8.679512e+11</td>\n      <td>5642828</td>\n      <td>F</td>\n      <td>2016-04-29T17:29:31Z</td>\n      <td>2016-04-29T00:00:00Z</td>\n      <td>8</td>\n      <td>PONTAL DE CAMBURI</td>\n      <td>0</td>\n      <td>0</td>\n      <td>0</td>\n      <td>0</td>\n      <td>0</td>\n      <td>0</td>\n      <td>No</td>\n    </tr>\n    <tr>\n      <th>4</th>\n      <td>8.841186e+12</td>\n      <td>5642494</td>\n      <td>F</td>\n      <td>2016-04-29T16:07:23Z</td>\n      <td>2016-04-29T00:00:00Z</td>\n      <td>56</td>\n      <td>JARDIM DA PENHA</td>\n      <td>0</td>\n      <td>1</td>\n      <td>1</td>\n      <td>0</td>\n      <td>0</td>\n      <td>0</td>\n      <td>No</td>\n    </tr>\n  </tbody>\n</table>\n</div>"
     },
     "metadata": {},
     "output_type": "execute_result",
     "execution_count": 2
    }
   ],
   "source": [
    "df = pd.read_csv('noshow.csv')\n",
    "df.head(5)"
   ]
  },
  {
   "cell_type": "code",
   "execution_count": 3,
   "metadata": {
    "pycharm": {
     "is_executing": false,
     "name": "#%%\n"
    }
   },
   "outputs": [
    {
     "data": {
      "text/plain": "           PatientId  AppointmentID Gender          ScheduledDay  \\\n110522  2.572134e+12        5651768      F  2016-05-03T09:15:35Z   \n110523  3.596266e+12        5650093      F  2016-05-03T07:27:33Z   \n110524  1.557663e+13        5630692      F  2016-04-27T16:03:52Z   \n110525  9.213493e+13        5630323      F  2016-04-27T15:09:23Z   \n110526  3.775115e+14        5629448      F  2016-04-27T13:30:56Z   \n\n              AppointmentDay  Age Neighbourhood  Scholarship  Hipertension  \\\n110522  2016-06-07T00:00:00Z   56   MARIA ORTIZ            0             0   \n110523  2016-06-07T00:00:00Z   51   MARIA ORTIZ            0             0   \n110524  2016-06-07T00:00:00Z   21   MARIA ORTIZ            0             0   \n110525  2016-06-07T00:00:00Z   38   MARIA ORTIZ            0             0   \n110526  2016-06-07T00:00:00Z   54   MARIA ORTIZ            0             0   \n\n        Diabetes  Alcoholism  Handcap  SMS_received No-show  \n110522         0           0        0             1      No  \n110523         0           0        0             1      No  \n110524         0           0        0             1      No  \n110525         0           0        0             1      No  \n110526         0           0        0             1      No  ",
      "text/html": "<div>\n<style scoped>\n    .dataframe tbody tr th:only-of-type {\n        vertical-align: middle;\n    }\n\n    .dataframe tbody tr th {\n        vertical-align: top;\n    }\n\n    .dataframe thead th {\n        text-align: right;\n    }\n</style>\n<table border=\"1\" class=\"dataframe\">\n  <thead>\n    <tr style=\"text-align: right;\">\n      <th></th>\n      <th>PatientId</th>\n      <th>AppointmentID</th>\n      <th>Gender</th>\n      <th>ScheduledDay</th>\n      <th>AppointmentDay</th>\n      <th>Age</th>\n      <th>Neighbourhood</th>\n      <th>Scholarship</th>\n      <th>Hipertension</th>\n      <th>Diabetes</th>\n      <th>Alcoholism</th>\n      <th>Handcap</th>\n      <th>SMS_received</th>\n      <th>No-show</th>\n    </tr>\n  </thead>\n  <tbody>\n    <tr>\n      <th>110522</th>\n      <td>2.572134e+12</td>\n      <td>5651768</td>\n      <td>F</td>\n      <td>2016-05-03T09:15:35Z</td>\n      <td>2016-06-07T00:00:00Z</td>\n      <td>56</td>\n      <td>MARIA ORTIZ</td>\n      <td>0</td>\n      <td>0</td>\n      <td>0</td>\n      <td>0</td>\n      <td>0</td>\n      <td>1</td>\n      <td>No</td>\n    </tr>\n    <tr>\n      <th>110523</th>\n      <td>3.596266e+12</td>\n      <td>5650093</td>\n      <td>F</td>\n      <td>2016-05-03T07:27:33Z</td>\n      <td>2016-06-07T00:00:00Z</td>\n      <td>51</td>\n      <td>MARIA ORTIZ</td>\n      <td>0</td>\n      <td>0</td>\n      <td>0</td>\n      <td>0</td>\n      <td>0</td>\n      <td>1</td>\n      <td>No</td>\n    </tr>\n    <tr>\n      <th>110524</th>\n      <td>1.557663e+13</td>\n      <td>5630692</td>\n      <td>F</td>\n      <td>2016-04-27T16:03:52Z</td>\n      <td>2016-06-07T00:00:00Z</td>\n      <td>21</td>\n      <td>MARIA ORTIZ</td>\n      <td>0</td>\n      <td>0</td>\n      <td>0</td>\n      <td>0</td>\n      <td>0</td>\n      <td>1</td>\n      <td>No</td>\n    </tr>\n    <tr>\n      <th>110525</th>\n      <td>9.213493e+13</td>\n      <td>5630323</td>\n      <td>F</td>\n      <td>2016-04-27T15:09:23Z</td>\n      <td>2016-06-07T00:00:00Z</td>\n      <td>38</td>\n      <td>MARIA ORTIZ</td>\n      <td>0</td>\n      <td>0</td>\n      <td>0</td>\n      <td>0</td>\n      <td>0</td>\n      <td>1</td>\n      <td>No</td>\n    </tr>\n    <tr>\n      <th>110526</th>\n      <td>3.775115e+14</td>\n      <td>5629448</td>\n      <td>F</td>\n      <td>2016-04-27T13:30:56Z</td>\n      <td>2016-06-07T00:00:00Z</td>\n      <td>54</td>\n      <td>MARIA ORTIZ</td>\n      <td>0</td>\n      <td>0</td>\n      <td>0</td>\n      <td>0</td>\n      <td>0</td>\n      <td>1</td>\n      <td>No</td>\n    </tr>\n  </tbody>\n</table>\n</div>"
     },
     "metadata": {},
     "output_type": "execute_result",
     "execution_count": 3
    }
   ],
   "source": [
    "df.tail()"
   ]
  },
  {
   "cell_type": "markdown",
   "metadata": {
    "pycharm": {
     "name": "#%% md\n"
    }
   },
   "source": [
    "Inspecting info of the data"
   ]
  },
  {
   "cell_type": "code",
   "execution_count": 4,
   "metadata": {
    "pycharm": {
     "is_executing": false,
     "name": "#%%\n"
    }
   },
   "outputs": [
    {
     "name": "stdout",
     "text": [
      "<class 'pandas.core.frame.DataFrame'>\n",
      "RangeIndex: 110527 entries, 0 to 110526\n",
      "Data columns (total 14 columns):\n",
      " #   Column          Non-Null Count   Dtype  \n",
      "---  ------          --------------   -----  \n",
      " 0   PatientId       110527 non-null  float64\n",
      " 1   AppointmentID   110527 non-null  int64  \n",
      " 2   Gender          110527 non-null  object \n",
      " 3   ScheduledDay    110527 non-null  object \n",
      " 4   AppointmentDay  110527 non-null  object \n",
      " 5   Age             110527 non-null  int64  \n",
      " 6   Neighbourhood   110527 non-null  object \n",
      " 7   Scholarship     110527 non-null  int64  \n",
      " 8   Hipertension    110527 non-null  int64  \n",
      " 9   Diabetes        110527 non-null  int64  \n",
      " 10  Alcoholism      110527 non-null  int64  \n",
      " 11  Handcap         110527 non-null  int64  \n",
      " 12  SMS_received    110527 non-null  int64  \n",
      " 13  No-show         110527 non-null  object \n",
      "dtypes: float64(1), int64(8), object(5)\n",
      "memory usage: 11.8+ MB\n"
     ],
     "output_type": "stream"
    }
   ],
   "source": [
    "df.info()"
   ]
  },
  {
   "cell_type": "markdown",
   "metadata": {},
   "source": [
    "Dropping Columns : PatientId , AppointmentID"
   ]
  },
  {
   "cell_type": "code",
   "execution_count": 5,
   "metadata": {
    "pycharm": {
     "is_executing": false,
     "name": "#%%\n"
    }
   },
   "outputs": [],
   "source": [
    "df.drop('PatientId',axis=1,inplace=True)"
   ]
  },
  {
   "cell_type": "code",
   "execution_count": 6,
   "metadata": {
    "pycharm": {
     "is_executing": false,
     "name": "#%%\n"
    }
   },
   "outputs": [],
   "source": [
    "df.drop('AppointmentID',axis=1,inplace=True)"
   ]
  },
  {
   "cell_type": "code",
   "execution_count": 7,
   "metadata": {
    "pycharm": {
     "is_executing": false,
     "name": "#%%\n"
    }
   },
   "outputs": [
    {
     "data": {
      "text/plain": "       Gender          ScheduledDay        AppointmentDay  Age  \\\n0           F  2016-04-29T18:38:08Z  2016-04-29T00:00:00Z   62   \n1           M  2016-04-29T16:08:27Z  2016-04-29T00:00:00Z   56   \n2           F  2016-04-29T16:19:04Z  2016-04-29T00:00:00Z   62   \n3           F  2016-04-29T17:29:31Z  2016-04-29T00:00:00Z    8   \n4           F  2016-04-29T16:07:23Z  2016-04-29T00:00:00Z   56   \n...       ...                   ...                   ...  ...   \n110522      F  2016-05-03T09:15:35Z  2016-06-07T00:00:00Z   56   \n110523      F  2016-05-03T07:27:33Z  2016-06-07T00:00:00Z   51   \n110524      F  2016-04-27T16:03:52Z  2016-06-07T00:00:00Z   21   \n110525      F  2016-04-27T15:09:23Z  2016-06-07T00:00:00Z   38   \n110526      F  2016-04-27T13:30:56Z  2016-06-07T00:00:00Z   54   \n\n            Neighbourhood  Scholarship  Hipertension  Diabetes  Alcoholism  \\\n0         JARDIM DA PENHA            0             1         0           0   \n1         JARDIM DA PENHA            0             0         0           0   \n2           MATA DA PRAIA            0             0         0           0   \n3       PONTAL DE CAMBURI            0             0         0           0   \n4         JARDIM DA PENHA            0             1         1           0   \n...                   ...          ...           ...       ...         ...   \n110522        MARIA ORTIZ            0             0         0           0   \n110523        MARIA ORTIZ            0             0         0           0   \n110524        MARIA ORTIZ            0             0         0           0   \n110525        MARIA ORTIZ            0             0         0           0   \n110526        MARIA ORTIZ            0             0         0           0   \n\n        Handcap  SMS_received No-show  \n0             0             0      No  \n1             0             0      No  \n2             0             0      No  \n3             0             0      No  \n4             0             0      No  \n...         ...           ...     ...  \n110522        0             1      No  \n110523        0             1      No  \n110524        0             1      No  \n110525        0             1      No  \n110526        0             1      No  \n\n[110527 rows x 12 columns]",
      "text/html": "<div>\n<style scoped>\n    .dataframe tbody tr th:only-of-type {\n        vertical-align: middle;\n    }\n\n    .dataframe tbody tr th {\n        vertical-align: top;\n    }\n\n    .dataframe thead th {\n        text-align: right;\n    }\n</style>\n<table border=\"1\" class=\"dataframe\">\n  <thead>\n    <tr style=\"text-align: right;\">\n      <th></th>\n      <th>Gender</th>\n      <th>ScheduledDay</th>\n      <th>AppointmentDay</th>\n      <th>Age</th>\n      <th>Neighbourhood</th>\n      <th>Scholarship</th>\n      <th>Hipertension</th>\n      <th>Diabetes</th>\n      <th>Alcoholism</th>\n      <th>Handcap</th>\n      <th>SMS_received</th>\n      <th>No-show</th>\n    </tr>\n  </thead>\n  <tbody>\n    <tr>\n      <th>0</th>\n      <td>F</td>\n      <td>2016-04-29T18:38:08Z</td>\n      <td>2016-04-29T00:00:00Z</td>\n      <td>62</td>\n      <td>JARDIM DA PENHA</td>\n      <td>0</td>\n      <td>1</td>\n      <td>0</td>\n      <td>0</td>\n      <td>0</td>\n      <td>0</td>\n      <td>No</td>\n    </tr>\n    <tr>\n      <th>1</th>\n      <td>M</td>\n      <td>2016-04-29T16:08:27Z</td>\n      <td>2016-04-29T00:00:00Z</td>\n      <td>56</td>\n      <td>JARDIM DA PENHA</td>\n      <td>0</td>\n      <td>0</td>\n      <td>0</td>\n      <td>0</td>\n      <td>0</td>\n      <td>0</td>\n      <td>No</td>\n    </tr>\n    <tr>\n      <th>2</th>\n      <td>F</td>\n      <td>2016-04-29T16:19:04Z</td>\n      <td>2016-04-29T00:00:00Z</td>\n      <td>62</td>\n      <td>MATA DA PRAIA</td>\n      <td>0</td>\n      <td>0</td>\n      <td>0</td>\n      <td>0</td>\n      <td>0</td>\n      <td>0</td>\n      <td>No</td>\n    </tr>\n    <tr>\n      <th>3</th>\n      <td>F</td>\n      <td>2016-04-29T17:29:31Z</td>\n      <td>2016-04-29T00:00:00Z</td>\n      <td>8</td>\n      <td>PONTAL DE CAMBURI</td>\n      <td>0</td>\n      <td>0</td>\n      <td>0</td>\n      <td>0</td>\n      <td>0</td>\n      <td>0</td>\n      <td>No</td>\n    </tr>\n    <tr>\n      <th>4</th>\n      <td>F</td>\n      <td>2016-04-29T16:07:23Z</td>\n      <td>2016-04-29T00:00:00Z</td>\n      <td>56</td>\n      <td>JARDIM DA PENHA</td>\n      <td>0</td>\n      <td>1</td>\n      <td>1</td>\n      <td>0</td>\n      <td>0</td>\n      <td>0</td>\n      <td>No</td>\n    </tr>\n    <tr>\n      <th>...</th>\n      <td>...</td>\n      <td>...</td>\n      <td>...</td>\n      <td>...</td>\n      <td>...</td>\n      <td>...</td>\n      <td>...</td>\n      <td>...</td>\n      <td>...</td>\n      <td>...</td>\n      <td>...</td>\n      <td>...</td>\n    </tr>\n    <tr>\n      <th>110522</th>\n      <td>F</td>\n      <td>2016-05-03T09:15:35Z</td>\n      <td>2016-06-07T00:00:00Z</td>\n      <td>56</td>\n      <td>MARIA ORTIZ</td>\n      <td>0</td>\n      <td>0</td>\n      <td>0</td>\n      <td>0</td>\n      <td>0</td>\n      <td>1</td>\n      <td>No</td>\n    </tr>\n    <tr>\n      <th>110523</th>\n      <td>F</td>\n      <td>2016-05-03T07:27:33Z</td>\n      <td>2016-06-07T00:00:00Z</td>\n      <td>51</td>\n      <td>MARIA ORTIZ</td>\n      <td>0</td>\n      <td>0</td>\n      <td>0</td>\n      <td>0</td>\n      <td>0</td>\n      <td>1</td>\n      <td>No</td>\n    </tr>\n    <tr>\n      <th>110524</th>\n      <td>F</td>\n      <td>2016-04-27T16:03:52Z</td>\n      <td>2016-06-07T00:00:00Z</td>\n      <td>21</td>\n      <td>MARIA ORTIZ</td>\n      <td>0</td>\n      <td>0</td>\n      <td>0</td>\n      <td>0</td>\n      <td>0</td>\n      <td>1</td>\n      <td>No</td>\n    </tr>\n    <tr>\n      <th>110525</th>\n      <td>F</td>\n      <td>2016-04-27T15:09:23Z</td>\n      <td>2016-06-07T00:00:00Z</td>\n      <td>38</td>\n      <td>MARIA ORTIZ</td>\n      <td>0</td>\n      <td>0</td>\n      <td>0</td>\n      <td>0</td>\n      <td>0</td>\n      <td>1</td>\n      <td>No</td>\n    </tr>\n    <tr>\n      <th>110526</th>\n      <td>F</td>\n      <td>2016-04-27T13:30:56Z</td>\n      <td>2016-06-07T00:00:00Z</td>\n      <td>54</td>\n      <td>MARIA ORTIZ</td>\n      <td>0</td>\n      <td>0</td>\n      <td>0</td>\n      <td>0</td>\n      <td>0</td>\n      <td>1</td>\n      <td>No</td>\n    </tr>\n  </tbody>\n</table>\n<p>110527 rows × 12 columns</p>\n</div>"
     },
     "metadata": {},
     "output_type": "execute_result",
     "execution_count": 7
    }
   ],
   "source": [
    "df.reset_index(drop=True)"
   ]
  },
  {
   "cell_type": "markdown",
   "metadata": {},
   "source": [
    "Checking the new data Head() to make sure the columns have been removed"
   ]
  },
  {
   "cell_type": "code",
   "execution_count": 8,
   "metadata": {
    "pycharm": {
     "is_executing": false,
     "name": "#%%\n"
    }
   },
   "outputs": [
    {
     "data": {
      "text/plain": "  Gender          ScheduledDay        AppointmentDay  Age    Neighbourhood  \\\n0      F  2016-04-29T18:38:08Z  2016-04-29T00:00:00Z   62  JARDIM DA PENHA   \n1      M  2016-04-29T16:08:27Z  2016-04-29T00:00:00Z   56  JARDIM DA PENHA   \n2      F  2016-04-29T16:19:04Z  2016-04-29T00:00:00Z   62    MATA DA PRAIA   \n\n   Scholarship  Hipertension  Diabetes  Alcoholism  Handcap  SMS_received  \\\n0            0             1         0           0        0             0   \n1            0             0         0           0        0             0   \n2            0             0         0           0        0             0   \n\n  No-show  \n0      No  \n1      No  \n2      No  ",
      "text/html": "<div>\n<style scoped>\n    .dataframe tbody tr th:only-of-type {\n        vertical-align: middle;\n    }\n\n    .dataframe tbody tr th {\n        vertical-align: top;\n    }\n\n    .dataframe thead th {\n        text-align: right;\n    }\n</style>\n<table border=\"1\" class=\"dataframe\">\n  <thead>\n    <tr style=\"text-align: right;\">\n      <th></th>\n      <th>Gender</th>\n      <th>ScheduledDay</th>\n      <th>AppointmentDay</th>\n      <th>Age</th>\n      <th>Neighbourhood</th>\n      <th>Scholarship</th>\n      <th>Hipertension</th>\n      <th>Diabetes</th>\n      <th>Alcoholism</th>\n      <th>Handcap</th>\n      <th>SMS_received</th>\n      <th>No-show</th>\n    </tr>\n  </thead>\n  <tbody>\n    <tr>\n      <th>0</th>\n      <td>F</td>\n      <td>2016-04-29T18:38:08Z</td>\n      <td>2016-04-29T00:00:00Z</td>\n      <td>62</td>\n      <td>JARDIM DA PENHA</td>\n      <td>0</td>\n      <td>1</td>\n      <td>0</td>\n      <td>0</td>\n      <td>0</td>\n      <td>0</td>\n      <td>No</td>\n    </tr>\n    <tr>\n      <th>1</th>\n      <td>M</td>\n      <td>2016-04-29T16:08:27Z</td>\n      <td>2016-04-29T00:00:00Z</td>\n      <td>56</td>\n      <td>JARDIM DA PENHA</td>\n      <td>0</td>\n      <td>0</td>\n      <td>0</td>\n      <td>0</td>\n      <td>0</td>\n      <td>0</td>\n      <td>No</td>\n    </tr>\n    <tr>\n      <th>2</th>\n      <td>F</td>\n      <td>2016-04-29T16:19:04Z</td>\n      <td>2016-04-29T00:00:00Z</td>\n      <td>62</td>\n      <td>MATA DA PRAIA</td>\n      <td>0</td>\n      <td>0</td>\n      <td>0</td>\n      <td>0</td>\n      <td>0</td>\n      <td>0</td>\n      <td>No</td>\n    </tr>\n  </tbody>\n</table>\n</div>"
     },
     "metadata": {},
     "output_type": "execute_result",
     "execution_count": 8
    }
   ],
   "source": [
    "df.head(3)"
   ]
  },
  {
   "cell_type": "markdown",
   "metadata": {},
   "source": [
    "Checking for NAN or missing values in the dataset"
   ]
  },
  {
   "cell_type": "code",
   "execution_count": 9,
   "metadata": {
    "pycharm": {
     "is_executing": false,
     "name": "#%%\n"
    }
   },
   "outputs": [],
   "source": [
    "#pd.isnull(df) \n",
    "#The output reveals the data to be void of NaN values\n",
    "# it can also be called as method  df.isnull()"
   ]
  },
  {
   "cell_type": "code",
   "execution_count": 10,
   "metadata": {
    "pycharm": {
     "is_executing": false,
     "name": "#%%\n"
    }
   },
   "outputs": [
    {
     "data": {
      "text/plain": "Gender            0\nScheduledDay      0\nAppointmentDay    0\nAge               0\nNeighbourhood     0\nScholarship       0\nHipertension      0\nDiabetes          0\nAlcoholism        0\nHandcap           0\nSMS_received      0\nNo-show           0\ndtype: int64"
     },
     "metadata": {},
     "output_type": "execute_result",
     "execution_count": 10
    }
   ],
   "source": [
    "df.isnull().sum()"
   ]
  },
  {
   "cell_type": "code",
   "execution_count": 11,
   "metadata": {
    "pycharm": {
     "is_executing": false,
     "name": "#%%\n"
    }
   },
   "outputs": [],
   "source": [
    "#df[pd.isnull(df)]"
   ]
  },
  {
   "cell_type": "code",
   "execution_count": 12,
   "metadata": {
    "pycharm": {
     "is_executing": false,
     "name": "#%%\n"
    }
   },
   "outputs": [
    {
     "data": {
      "text/plain": "       Gender          ScheduledDay        AppointmentDay  Age  \\\n154         F  2016-04-28T16:38:34Z  2016-04-29T00:00:00Z   30   \n369         F  2016-04-29T09:43:15Z  2016-04-29T00:00:00Z   39   \n371         F  2016-04-19T11:16:27Z  2016-04-29T00:00:00Z   11   \n466         F  2016-04-27T13:16:02Z  2016-04-29T00:00:00Z   49   \n554         M  2016-03-29T12:40:26Z  2016-04-29T00:00:00Z   40   \n...       ...                   ...                   ...  ...   \n107952      M  2016-06-06T12:49:02Z  2016-06-08T00:00:00Z   26   \n108263      M  2016-04-26T13:10:03Z  2016-06-08T00:00:00Z   16   \n108538      F  2016-06-03T08:48:26Z  2016-06-03T00:00:00Z   28   \n109649      M  2016-05-04T13:21:32Z  2016-06-01T00:00:00Z    0   \n109650      M  2016-05-12T12:35:04Z  2016-06-08T00:00:00Z    0   \n\n         Neighbourhood  Scholarship  Hipertension  Diabetes  Alcoholism  \\\n154            ITARARÉ            0             0         0           0   \n369     PRAIA DO CANTO            0             0         0           0   \n371         BELA VISTA            0             0         0           0   \n466         CONSOLAÇÃO            0             0         0           0   \n554             CENTRO            0             0         0           0   \n...                ...          ...           ...       ...         ...   \n107952     RESISTÊNCIA            0             0         0           0   \n108263      CRUZAMENTO            0             0         0           0   \n108538       DO CABRAL            0             0         0           0   \n109649  FORTE SÃO JOÃO            0             0         0           0   \n109650  FORTE SÃO JOÃO            0             0         0           0   \n\n        Handcap  SMS_received No-show  \n154           0             0      No  \n369           0             0      No  \n371           0             0      No  \n466           0             0      No  \n554           0             0     Yes  \n...         ...           ...     ...  \n107952        0             0      No  \n108263        0             0      No  \n108538        0             0      No  \n109649        0             0      No  \n109650        0             0     Yes  \n\n[635 rows x 12 columns]",
      "text/html": "<div>\n<style scoped>\n    .dataframe tbody tr th:only-of-type {\n        vertical-align: middle;\n    }\n\n    .dataframe tbody tr th {\n        vertical-align: top;\n    }\n\n    .dataframe thead th {\n        text-align: right;\n    }\n</style>\n<table border=\"1\" class=\"dataframe\">\n  <thead>\n    <tr style=\"text-align: right;\">\n      <th></th>\n      <th>Gender</th>\n      <th>ScheduledDay</th>\n      <th>AppointmentDay</th>\n      <th>Age</th>\n      <th>Neighbourhood</th>\n      <th>Scholarship</th>\n      <th>Hipertension</th>\n      <th>Diabetes</th>\n      <th>Alcoholism</th>\n      <th>Handcap</th>\n      <th>SMS_received</th>\n      <th>No-show</th>\n    </tr>\n  </thead>\n  <tbody>\n    <tr>\n      <th>154</th>\n      <td>F</td>\n      <td>2016-04-28T16:38:34Z</td>\n      <td>2016-04-29T00:00:00Z</td>\n      <td>30</td>\n      <td>ITARARÉ</td>\n      <td>0</td>\n      <td>0</td>\n      <td>0</td>\n      <td>0</td>\n      <td>0</td>\n      <td>0</td>\n      <td>No</td>\n    </tr>\n    <tr>\n      <th>369</th>\n      <td>F</td>\n      <td>2016-04-29T09:43:15Z</td>\n      <td>2016-04-29T00:00:00Z</td>\n      <td>39</td>\n      <td>PRAIA DO CANTO</td>\n      <td>0</td>\n      <td>0</td>\n      <td>0</td>\n      <td>0</td>\n      <td>0</td>\n      <td>0</td>\n      <td>No</td>\n    </tr>\n    <tr>\n      <th>371</th>\n      <td>F</td>\n      <td>2016-04-19T11:16:27Z</td>\n      <td>2016-04-29T00:00:00Z</td>\n      <td>11</td>\n      <td>BELA VISTA</td>\n      <td>0</td>\n      <td>0</td>\n      <td>0</td>\n      <td>0</td>\n      <td>0</td>\n      <td>0</td>\n      <td>No</td>\n    </tr>\n    <tr>\n      <th>466</th>\n      <td>F</td>\n      <td>2016-04-27T13:16:02Z</td>\n      <td>2016-04-29T00:00:00Z</td>\n      <td>49</td>\n      <td>CONSOLAÇÃO</td>\n      <td>0</td>\n      <td>0</td>\n      <td>0</td>\n      <td>0</td>\n      <td>0</td>\n      <td>0</td>\n      <td>No</td>\n    </tr>\n    <tr>\n      <th>554</th>\n      <td>M</td>\n      <td>2016-03-29T12:40:26Z</td>\n      <td>2016-04-29T00:00:00Z</td>\n      <td>40</td>\n      <td>CENTRO</td>\n      <td>0</td>\n      <td>0</td>\n      <td>0</td>\n      <td>0</td>\n      <td>0</td>\n      <td>0</td>\n      <td>Yes</td>\n    </tr>\n    <tr>\n      <th>...</th>\n      <td>...</td>\n      <td>...</td>\n      <td>...</td>\n      <td>...</td>\n      <td>...</td>\n      <td>...</td>\n      <td>...</td>\n      <td>...</td>\n      <td>...</td>\n      <td>...</td>\n      <td>...</td>\n      <td>...</td>\n    </tr>\n    <tr>\n      <th>107952</th>\n      <td>M</td>\n      <td>2016-06-06T12:49:02Z</td>\n      <td>2016-06-08T00:00:00Z</td>\n      <td>26</td>\n      <td>RESISTÊNCIA</td>\n      <td>0</td>\n      <td>0</td>\n      <td>0</td>\n      <td>0</td>\n      <td>0</td>\n      <td>0</td>\n      <td>No</td>\n    </tr>\n    <tr>\n      <th>108263</th>\n      <td>M</td>\n      <td>2016-04-26T13:10:03Z</td>\n      <td>2016-06-08T00:00:00Z</td>\n      <td>16</td>\n      <td>CRUZAMENTO</td>\n      <td>0</td>\n      <td>0</td>\n      <td>0</td>\n      <td>0</td>\n      <td>0</td>\n      <td>0</td>\n      <td>No</td>\n    </tr>\n    <tr>\n      <th>108538</th>\n      <td>F</td>\n      <td>2016-06-03T08:48:26Z</td>\n      <td>2016-06-03T00:00:00Z</td>\n      <td>28</td>\n      <td>DO CABRAL</td>\n      <td>0</td>\n      <td>0</td>\n      <td>0</td>\n      <td>0</td>\n      <td>0</td>\n      <td>0</td>\n      <td>No</td>\n    </tr>\n    <tr>\n      <th>109649</th>\n      <td>M</td>\n      <td>2016-05-04T13:21:32Z</td>\n      <td>2016-06-01T00:00:00Z</td>\n      <td>0</td>\n      <td>FORTE SÃO JOÃO</td>\n      <td>0</td>\n      <td>0</td>\n      <td>0</td>\n      <td>0</td>\n      <td>0</td>\n      <td>0</td>\n      <td>No</td>\n    </tr>\n    <tr>\n      <th>109650</th>\n      <td>M</td>\n      <td>2016-05-12T12:35:04Z</td>\n      <td>2016-06-08T00:00:00Z</td>\n      <td>0</td>\n      <td>FORTE SÃO JOÃO</td>\n      <td>0</td>\n      <td>0</td>\n      <td>0</td>\n      <td>0</td>\n      <td>0</td>\n      <td>0</td>\n      <td>Yes</td>\n    </tr>\n  </tbody>\n</table>\n<p>635 rows × 12 columns</p>\n</div>"
     },
     "metadata": {},
     "output_type": "execute_result",
     "execution_count": 12
    }
   ],
   "source": [
    "df[df.duplicated()] \n",
    "#shows the  duplicated rows\n",
    "#df.duplicated() returns a boolean series\n",
    "#hence can be filtered as above"
   ]
  },
  {
   "cell_type": "markdown",
   "metadata": {
    "pycharm": {
     "name": "#%% md\n"
    }
   },
   "source": [
    "The following command gives a sum total of the duplicate rows"
   ]
  },
  {
   "cell_type": "code",
   "execution_count": 13,
   "metadata": {
    "pycharm": {
     "is_executing": false,
     "name": "#%%\n"
    }
   },
   "outputs": [
    {
     "data": {
      "text/plain": "635"
     },
     "metadata": {},
     "output_type": "execute_result",
     "execution_count": 13
    }
   ],
   "source": [
    "df.duplicated().sum()"
   ]
  },
  {
   "cell_type": "markdown",
   "metadata": {},
   "source": [
    "Analyzing the dataset with PatientID and AppointmentID columns we find that \n",
    "there are no duplicate rows as each PatientID or AppointmentID tends to be \n",
    "unique.\n",
    "However, a closer look at the data reveals that without the two above mentioned \n",
    "columns there are  duplicate rows. Thus dropping the PatientID and \n",
    "AppointmentID columns reveals those rows that have duplicates. \n",
    "This means that there are rows of data that have everything in common except \n",
    "for the PatientID and AppointmentID. We believe that such a record could be \n",
    "attributed to some error in the data collection process.\n",
    "process. "
   ]
  },
  {
   "cell_type": "code",
   "execution_count": 14,
   "metadata": {
    "pycharm": {
     "is_executing": false,
     "name": "#%%\n"
    }
   },
   "outputs": [],
   "source": [
    "df.drop_duplicates(inplace=True)"
   ]
  },
  {
   "cell_type": "markdown",
   "metadata": {
    "pycharm": {
     "name": "#%% md\n"
    }
   },
   "source": [
    "Despite dropping the duplicates when we call the info method on \n",
    "df we find that it still lists the previous index values."
   ]
  },
  {
   "cell_type": "code",
   "execution_count": 15,
   "metadata": {
    "pycharm": {
     "is_executing": false,
     "name": "#%%\n"
    }
   },
   "outputs": [
    {
     "name": "stdout",
     "text": [
      "<class 'pandas.core.frame.DataFrame'>\n",
      "Int64Index: 109892 entries, 0 to 110526\n",
      "Data columns (total 12 columns):\n",
      " #   Column          Non-Null Count   Dtype \n",
      "---  ------          --------------   ----- \n",
      " 0   Gender          109892 non-null  object\n",
      " 1   ScheduledDay    109892 non-null  object\n",
      " 2   AppointmentDay  109892 non-null  object\n",
      " 3   Age             109892 non-null  int64 \n",
      " 4   Neighbourhood   109892 non-null  object\n",
      " 5   Scholarship     109892 non-null  int64 \n",
      " 6   Hipertension    109892 non-null  int64 \n",
      " 7   Diabetes        109892 non-null  int64 \n",
      " 8   Alcoholism      109892 non-null  int64 \n",
      " 9   Handcap         109892 non-null  int64 \n",
      " 10  SMS_received    109892 non-null  int64 \n",
      " 11  No-show         109892 non-null  object\n",
      "dtypes: int64(7), object(5)\n",
      "memory usage: 10.9+ MB\n"
     ],
     "output_type": "stream"
    }
   ],
   "source": [
    "df.info()"
   ]
  },
  {
   "cell_type": "markdown",
   "metadata": {
    "pycharm": {
     "name": "#%% md\n"
    }
   },
   "source": [
    "To remedy this we will be using the df.reset_index(drop=True) method and \n",
    "perform  follow that with a check of our info to verify that the index has \n",
    "indeed been \n",
    "reset"
   ]
  },
  {
   "cell_type": "code",
   "execution_count": 16,
   "metadata": {
    "pycharm": {
     "is_executing": false,
     "name": "#%%\n"
    }
   },
   "outputs": [],
   "source": [
    "df.reset_index(drop=True, inplace=True)"
   ]
  },
  {
   "cell_type": "code",
   "execution_count": 17,
   "metadata": {
    "pycharm": {
     "is_executing": false,
     "name": "#%%\n"
    }
   },
   "outputs": [
    {
     "name": "stdout",
     "text": [
      "<class 'pandas.core.frame.DataFrame'>\n",
      "RangeIndex: 109892 entries, 0 to 109891\n",
      "Data columns (total 12 columns):\n",
      " #   Column          Non-Null Count   Dtype \n",
      "---  ------          --------------   ----- \n",
      " 0   Gender          109892 non-null  object\n",
      " 1   ScheduledDay    109892 non-null  object\n",
      " 2   AppointmentDay  109892 non-null  object\n",
      " 3   Age             109892 non-null  int64 \n",
      " 4   Neighbourhood   109892 non-null  object\n",
      " 5   Scholarship     109892 non-null  int64 \n",
      " 6   Hipertension    109892 non-null  int64 \n",
      " 7   Diabetes        109892 non-null  int64 \n",
      " 8   Alcoholism      109892 non-null  int64 \n",
      " 9   Handcap         109892 non-null  int64 \n",
      " 10  SMS_received    109892 non-null  int64 \n",
      " 11  No-show         109892 non-null  object\n",
      "dtypes: int64(7), object(5)\n",
      "memory usage: 10.1+ MB\n"
     ],
     "output_type": "stream"
    }
   ],
   "source": [
    "df.info() # The row entries have reduced from 115027 to 109892\n"
   ]
  },
  {
   "cell_type": "markdown",
   "metadata": {
    "pycharm": {
     "name": "#%% md\n"
    }
   },
   "source": [
    "converting a single string object from the ScheduledDay column into a datetime \n",
    "object"
   ]
  },
  {
   "cell_type": "code",
   "execution_count": 18,
   "metadata": {
    "pycharm": {
     "is_executing": false,
     "name": "#%%\n"
    }
   },
   "outputs": [
    {
     "data": {
      "text/plain": "'2016-04-29T18:38:08Z'"
     },
     "metadata": {},
     "output_type": "execute_result",
     "execution_count": 18
    }
   ],
   "source": [
    "date_str1=df['ScheduledDay'][0]\n",
    "date_str1"
   ]
  },
  {
   "cell_type": "markdown",
   "metadata": {
    "pycharm": {
     "name": "#%% md\n"
    }
   },
   "source": [
    "Checking the best approach to convert the string format date to datetime object"
   ]
  },
  {
   "cell_type": "code",
   "execution_count": 19,
   "metadata": {
    "pycharm": {
     "is_executing": false,
     "name": "#%%\n"
    }
   },
   "outputs": [
    {
     "data": {
      "text/plain": "datetime.datetime(2016, 4, 29, 18, 38, 8)"
     },
     "metadata": {},
     "output_type": "execute_result",
     "execution_count": 19
    }
   ],
   "source": [
    "from datetime import datetime\n",
    "date_dt1 = datetime.strptime(date_str1,'%Y-%m-%dT%Xz')\n",
    "date_dt1"
   ]
  },
  {
   "cell_type": "markdown",
   "metadata": {
    "pycharm": {
     "name": "#%% md\n"
    }
   },
   "source": [
    "Converting entire ScheduledDay and AppointmentDay columns from str object to \n",
    "datetime format \n",
    "using the pd.to_datetime method"
   ]
  },
  {
   "cell_type": "code",
   "execution_count": 20,
   "metadata": {
    "pycharm": {
     "is_executing": false,
     "name": "#%%\n"
    }
   },
   "outputs": [],
   "source": [
    "df['ScheduledDay'] = pd.to_datetime(df['ScheduledDay'],format='%Y-%m-%dT%Xz')"
   ]
  },
  {
   "cell_type": "code",
   "execution_count": 21,
   "metadata": {
    "pycharm": {
     "is_executing": false,
     "name": "#%%\n"
    }
   },
   "outputs": [],
   "source": [
    "df['AppointmentDay']= pd.to_datetime(df['AppointmentDay'],format='%Y-%m-%dT%Xz')"
   ]
  },
  {
   "cell_type": "markdown",
   "metadata": {
    "pycharm": {
     "name": "#%% md\n"
    }
   },
   "source": [
    "Check info to make sure the data type of the respective columns changed to \n",
    "datetime"
   ]
  },
  {
   "cell_type": "code",
   "execution_count": 22,
   "metadata": {
    "pycharm": {
     "is_executing": false,
     "name": "#%%\n"
    }
   },
   "outputs": [
    {
     "name": "stdout",
     "text": [
      "<class 'pandas.core.frame.DataFrame'>\n",
      "RangeIndex: 109892 entries, 0 to 109891\n",
      "Data columns (total 12 columns):\n",
      " #   Column          Non-Null Count   Dtype         \n",
      "---  ------          --------------   -----         \n",
      " 0   Gender          109892 non-null  object        \n",
      " 1   ScheduledDay    109892 non-null  datetime64[ns]\n",
      " 2   AppointmentDay  109892 non-null  datetime64[ns]\n",
      " 3   Age             109892 non-null  int64         \n",
      " 4   Neighbourhood   109892 non-null  object        \n",
      " 5   Scholarship     109892 non-null  int64         \n",
      " 6   Hipertension    109892 non-null  int64         \n",
      " 7   Diabetes        109892 non-null  int64         \n",
      " 8   Alcoholism      109892 non-null  int64         \n",
      " 9   Handcap         109892 non-null  int64         \n",
      " 10  SMS_received    109892 non-null  int64         \n",
      " 11  No-show         109892 non-null  object        \n",
      "dtypes: datetime64[ns](2), int64(7), object(3)\n",
      "memory usage: 10.1+ MB\n"
     ],
     "output_type": "stream"
    }
   ],
   "source": [
    "df.info()"
   ]
  },
  {
   "cell_type": "code",
   "execution_count": 23,
   "metadata": {
    "pycharm": {
     "is_executing": false,
     "name": "#%%\n"
    }
   },
   "outputs": [
    {
     "data": {
      "text/plain": "  Gender        ScheduledDay AppointmentDay  Age      Neighbourhood  \\\n0      F 2016-04-29 18:38:08     2016-04-29   62    JARDIM DA PENHA   \n1      M 2016-04-29 16:08:27     2016-04-29   56    JARDIM DA PENHA   \n2      F 2016-04-29 16:19:04     2016-04-29   62      MATA DA PRAIA   \n3      F 2016-04-29 17:29:31     2016-04-29    8  PONTAL DE CAMBURI   \n4      F 2016-04-29 16:07:23     2016-04-29   56    JARDIM DA PENHA   \n\n   Scholarship  Hipertension  Diabetes  Alcoholism  Handcap  SMS_received  \\\n0            0             1         0           0        0             0   \n1            0             0         0           0        0             0   \n2            0             0         0           0        0             0   \n3            0             0         0           0        0             0   \n4            0             1         1           0        0             0   \n\n  No-show  \n0      No  \n1      No  \n2      No  \n3      No  \n4      No  ",
      "text/html": "<div>\n<style scoped>\n    .dataframe tbody tr th:only-of-type {\n        vertical-align: middle;\n    }\n\n    .dataframe tbody tr th {\n        vertical-align: top;\n    }\n\n    .dataframe thead th {\n        text-align: right;\n    }\n</style>\n<table border=\"1\" class=\"dataframe\">\n  <thead>\n    <tr style=\"text-align: right;\">\n      <th></th>\n      <th>Gender</th>\n      <th>ScheduledDay</th>\n      <th>AppointmentDay</th>\n      <th>Age</th>\n      <th>Neighbourhood</th>\n      <th>Scholarship</th>\n      <th>Hipertension</th>\n      <th>Diabetes</th>\n      <th>Alcoholism</th>\n      <th>Handcap</th>\n      <th>SMS_received</th>\n      <th>No-show</th>\n    </tr>\n  </thead>\n  <tbody>\n    <tr>\n      <th>0</th>\n      <td>F</td>\n      <td>2016-04-29 18:38:08</td>\n      <td>2016-04-29</td>\n      <td>62</td>\n      <td>JARDIM DA PENHA</td>\n      <td>0</td>\n      <td>1</td>\n      <td>0</td>\n      <td>0</td>\n      <td>0</td>\n      <td>0</td>\n      <td>No</td>\n    </tr>\n    <tr>\n      <th>1</th>\n      <td>M</td>\n      <td>2016-04-29 16:08:27</td>\n      <td>2016-04-29</td>\n      <td>56</td>\n      <td>JARDIM DA PENHA</td>\n      <td>0</td>\n      <td>0</td>\n      <td>0</td>\n      <td>0</td>\n      <td>0</td>\n      <td>0</td>\n      <td>No</td>\n    </tr>\n    <tr>\n      <th>2</th>\n      <td>F</td>\n      <td>2016-04-29 16:19:04</td>\n      <td>2016-04-29</td>\n      <td>62</td>\n      <td>MATA DA PRAIA</td>\n      <td>0</td>\n      <td>0</td>\n      <td>0</td>\n      <td>0</td>\n      <td>0</td>\n      <td>0</td>\n      <td>No</td>\n    </tr>\n    <tr>\n      <th>3</th>\n      <td>F</td>\n      <td>2016-04-29 17:29:31</td>\n      <td>2016-04-29</td>\n      <td>8</td>\n      <td>PONTAL DE CAMBURI</td>\n      <td>0</td>\n      <td>0</td>\n      <td>0</td>\n      <td>0</td>\n      <td>0</td>\n      <td>0</td>\n      <td>No</td>\n    </tr>\n    <tr>\n      <th>4</th>\n      <td>F</td>\n      <td>2016-04-29 16:07:23</td>\n      <td>2016-04-29</td>\n      <td>56</td>\n      <td>JARDIM DA PENHA</td>\n      <td>0</td>\n      <td>1</td>\n      <td>1</td>\n      <td>0</td>\n      <td>0</td>\n      <td>0</td>\n      <td>No</td>\n    </tr>\n  </tbody>\n</table>\n</div>"
     },
     "metadata": {},
     "output_type": "execute_result",
     "execution_count": 23
    }
   ],
   "source": [
    "df.head()"
   ]
  },
  {
   "cell_type": "markdown",
   "metadata": {
    "pycharm": {
     "name": "#%% md\n"
    }
   },
   "source": [
    "We now derive new columns for year month and day from the ScheduledDay and \n",
    "AppointmentDay columns which will help us in the future for our descriptive \n",
    "and inferential studies\n"
   ]
  },
  {
   "cell_type": "code",
   "execution_count": 24,
   "metadata": {
    "pycharm": {
     "is_executing": false,
     "name": "#%%\n"
    }
   },
   "outputs": [],
   "source": [
    "#df['sYear'] = pd.DatetimeIndex(df['ScheduledDay']).year\n",
    "#df.head(3)"
   ]
  },
  {
   "cell_type": "code",
   "execution_count": 25,
   "metadata": {
    "pycharm": {
     "is_executing": false,
     "name": "#%%\n"
    }
   },
   "outputs": [],
   "source": [
    "#df.drop('sYear',axis=1)"
   ]
  },
  {
   "cell_type": "markdown",
   "metadata": {
    "pycharm": {
     "name": "#%% md\n"
    }
   },
   "source": [
    "Function to derive columns of year month and day from ScheduledDay and \n",
    "AppointmentDay columns:\n"
   ]
  },
  {
   "cell_type": "code",
   "execution_count": 26,
   "metadata": {
    "pycharm": {
     "is_executing": false,
     "name": "#%%\n"
    }
   },
   "outputs": [],
   "source": [
    "dfsched = pd.DataFrame(df['ScheduledDay'].dt.strftime('%Y-%m-%d').str.split\n",
    "                     ('-')\n",
    "                   .tolist(),columns=['sYear','sMonth','sDay'],\n",
    "                   dtype=int)"
   ]
  },
  {
   "cell_type": "code",
   "execution_count": 27,
   "metadata": {
    "pycharm": {
     "is_executing": false,
     "name": "#%%\n"
    }
   },
   "outputs": [
    {
     "data": {
      "text/plain": "  sYear sMonth sDay\n0  2016     04   29\n1  2016     04   29\n2  2016     04   29\n3  2016     04   29\n4  2016     04   29",
      "text/html": "<div>\n<style scoped>\n    .dataframe tbody tr th:only-of-type {\n        vertical-align: middle;\n    }\n\n    .dataframe tbody tr th {\n        vertical-align: top;\n    }\n\n    .dataframe thead th {\n        text-align: right;\n    }\n</style>\n<table border=\"1\" class=\"dataframe\">\n  <thead>\n    <tr style=\"text-align: right;\">\n      <th></th>\n      <th>sYear</th>\n      <th>sMonth</th>\n      <th>sDay</th>\n    </tr>\n  </thead>\n  <tbody>\n    <tr>\n      <th>0</th>\n      <td>2016</td>\n      <td>04</td>\n      <td>29</td>\n    </tr>\n    <tr>\n      <th>1</th>\n      <td>2016</td>\n      <td>04</td>\n      <td>29</td>\n    </tr>\n    <tr>\n      <th>2</th>\n      <td>2016</td>\n      <td>04</td>\n      <td>29</td>\n    </tr>\n    <tr>\n      <th>3</th>\n      <td>2016</td>\n      <td>04</td>\n      <td>29</td>\n    </tr>\n    <tr>\n      <th>4</th>\n      <td>2016</td>\n      <td>04</td>\n      <td>29</td>\n    </tr>\n  </tbody>\n</table>\n</div>"
     },
     "metadata": {},
     "output_type": "execute_result",
     "execution_count": 27
    }
   ],
   "source": [
    "dfsched.head()\n"
   ]
  },
  {
   "cell_type": "markdown",
   "metadata": {
    "pycharm": {
     "name": "#%% md\n"
    }
   },
   "source": [
    "Next we concatenate this new data frame with our existing data frame using \n",
    "pd.concat()"
   ]
  },
  {
   "cell_type": "code",
   "execution_count": 28,
   "metadata": {
    "pycharm": {
     "is_executing": false,
     "name": "#%%\n"
    }
   },
   "outputs": [],
   "source": [
    "df1=pd.concat((df,dfsched),axis=1) "
   ]
  },
  {
   "cell_type": "code",
   "execution_count": 29,
   "metadata": {
    "pycharm": {
     "is_executing": false,
     "name": "#%%\n"
    }
   },
   "outputs": [],
   "source": [
    "dfapp = pd.DataFrame(df['AppointmentDay'].dt.strftime('%Y-%m-%d').str.split\n",
    "                     ('-')\n",
    "                   .tolist(),columns=['aYear','aMonth','aDay'],\n",
    "                   dtype=int)"
   ]
  },
  {
   "cell_type": "code",
   "execution_count": 30,
   "metadata": {
    "pycharm": {
     "is_executing": false,
     "name": "#%%\n"
    }
   },
   "outputs": [
    {
     "data": {
      "text/plain": "  aYear aMonth aDay\n0  2016     04   29\n1  2016     04   29\n2  2016     04   29\n3  2016     04   29\n4  2016     04   29",
      "text/html": "<div>\n<style scoped>\n    .dataframe tbody tr th:only-of-type {\n        vertical-align: middle;\n    }\n\n    .dataframe tbody tr th {\n        vertical-align: top;\n    }\n\n    .dataframe thead th {\n        text-align: right;\n    }\n</style>\n<table border=\"1\" class=\"dataframe\">\n  <thead>\n    <tr style=\"text-align: right;\">\n      <th></th>\n      <th>aYear</th>\n      <th>aMonth</th>\n      <th>aDay</th>\n    </tr>\n  </thead>\n  <tbody>\n    <tr>\n      <th>0</th>\n      <td>2016</td>\n      <td>04</td>\n      <td>29</td>\n    </tr>\n    <tr>\n      <th>1</th>\n      <td>2016</td>\n      <td>04</td>\n      <td>29</td>\n    </tr>\n    <tr>\n      <th>2</th>\n      <td>2016</td>\n      <td>04</td>\n      <td>29</td>\n    </tr>\n    <tr>\n      <th>3</th>\n      <td>2016</td>\n      <td>04</td>\n      <td>29</td>\n    </tr>\n    <tr>\n      <th>4</th>\n      <td>2016</td>\n      <td>04</td>\n      <td>29</td>\n    </tr>\n  </tbody>\n</table>\n</div>"
     },
     "metadata": {},
     "output_type": "execute_result",
     "execution_count": 30
    }
   ],
   "source": [
    "dfapp.head()"
   ]
  },
  {
   "cell_type": "code",
   "execution_count": 31,
   "metadata": {
    "pycharm": {
     "is_executing": false,
     "name": "#%%\n"
    }
   },
   "outputs": [
    {
     "data": {
      "text/plain": "       aYear aMonth aDay\n109887  2016     06   07\n109888  2016     06   07\n109889  2016     06   07\n109890  2016     06   07\n109891  2016     06   07",
      "text/html": "<div>\n<style scoped>\n    .dataframe tbody tr th:only-of-type {\n        vertical-align: middle;\n    }\n\n    .dataframe tbody tr th {\n        vertical-align: top;\n    }\n\n    .dataframe thead th {\n        text-align: right;\n    }\n</style>\n<table border=\"1\" class=\"dataframe\">\n  <thead>\n    <tr style=\"text-align: right;\">\n      <th></th>\n      <th>aYear</th>\n      <th>aMonth</th>\n      <th>aDay</th>\n    </tr>\n  </thead>\n  <tbody>\n    <tr>\n      <th>109887</th>\n      <td>2016</td>\n      <td>06</td>\n      <td>07</td>\n    </tr>\n    <tr>\n      <th>109888</th>\n      <td>2016</td>\n      <td>06</td>\n      <td>07</td>\n    </tr>\n    <tr>\n      <th>109889</th>\n      <td>2016</td>\n      <td>06</td>\n      <td>07</td>\n    </tr>\n    <tr>\n      <th>109890</th>\n      <td>2016</td>\n      <td>06</td>\n      <td>07</td>\n    </tr>\n    <tr>\n      <th>109891</th>\n      <td>2016</td>\n      <td>06</td>\n      <td>07</td>\n    </tr>\n  </tbody>\n</table>\n</div>"
     },
     "metadata": {},
     "output_type": "execute_result",
     "execution_count": 31
    }
   ],
   "source": [
    "dfapp.tail()"
   ]
  },
  {
   "cell_type": "code",
   "execution_count": 32,
   "metadata": {
    "pycharm": {
     "is_executing": false,
     "name": "#%%\n"
    }
   },
   "outputs": [],
   "source": [
    "df_final=pd.concat((df1,dfapp),axis=1)"
   ]
  },
  {
   "cell_type": "code",
   "execution_count": 33,
   "metadata": {
    "pycharm": {
     "is_executing": false,
     "name": "#%%\n"
    }
   },
   "outputs": [
    {
     "data": {
      "text/plain": "  Gender        ScheduledDay AppointmentDay  Age      Neighbourhood  \\\n0      F 2016-04-29 18:38:08     2016-04-29   62    JARDIM DA PENHA   \n1      M 2016-04-29 16:08:27     2016-04-29   56    JARDIM DA PENHA   \n2      F 2016-04-29 16:19:04     2016-04-29   62      MATA DA PRAIA   \n3      F 2016-04-29 17:29:31     2016-04-29    8  PONTAL DE CAMBURI   \n4      F 2016-04-29 16:07:23     2016-04-29   56    JARDIM DA PENHA   \n\n   Scholarship  Hipertension  Diabetes  Alcoholism  Handcap  SMS_received  \\\n0            0             1         0           0        0             0   \n1            0             0         0           0        0             0   \n2            0             0         0           0        0             0   \n3            0             0         0           0        0             0   \n4            0             1         1           0        0             0   \n\n  No-show sYear sMonth sDay aYear aMonth aDay  \n0      No  2016     04   29  2016     04   29  \n1      No  2016     04   29  2016     04   29  \n2      No  2016     04   29  2016     04   29  \n3      No  2016     04   29  2016     04   29  \n4      No  2016     04   29  2016     04   29  ",
      "text/html": "<div>\n<style scoped>\n    .dataframe tbody tr th:only-of-type {\n        vertical-align: middle;\n    }\n\n    .dataframe tbody tr th {\n        vertical-align: top;\n    }\n\n    .dataframe thead th {\n        text-align: right;\n    }\n</style>\n<table border=\"1\" class=\"dataframe\">\n  <thead>\n    <tr style=\"text-align: right;\">\n      <th></th>\n      <th>Gender</th>\n      <th>ScheduledDay</th>\n      <th>AppointmentDay</th>\n      <th>Age</th>\n      <th>Neighbourhood</th>\n      <th>Scholarship</th>\n      <th>Hipertension</th>\n      <th>Diabetes</th>\n      <th>Alcoholism</th>\n      <th>Handcap</th>\n      <th>SMS_received</th>\n      <th>No-show</th>\n      <th>sYear</th>\n      <th>sMonth</th>\n      <th>sDay</th>\n      <th>aYear</th>\n      <th>aMonth</th>\n      <th>aDay</th>\n    </tr>\n  </thead>\n  <tbody>\n    <tr>\n      <th>0</th>\n      <td>F</td>\n      <td>2016-04-29 18:38:08</td>\n      <td>2016-04-29</td>\n      <td>62</td>\n      <td>JARDIM DA PENHA</td>\n      <td>0</td>\n      <td>1</td>\n      <td>0</td>\n      <td>0</td>\n      <td>0</td>\n      <td>0</td>\n      <td>No</td>\n      <td>2016</td>\n      <td>04</td>\n      <td>29</td>\n      <td>2016</td>\n      <td>04</td>\n      <td>29</td>\n    </tr>\n    <tr>\n      <th>1</th>\n      <td>M</td>\n      <td>2016-04-29 16:08:27</td>\n      <td>2016-04-29</td>\n      <td>56</td>\n      <td>JARDIM DA PENHA</td>\n      <td>0</td>\n      <td>0</td>\n      <td>0</td>\n      <td>0</td>\n      <td>0</td>\n      <td>0</td>\n      <td>No</td>\n      <td>2016</td>\n      <td>04</td>\n      <td>29</td>\n      <td>2016</td>\n      <td>04</td>\n      <td>29</td>\n    </tr>\n    <tr>\n      <th>2</th>\n      <td>F</td>\n      <td>2016-04-29 16:19:04</td>\n      <td>2016-04-29</td>\n      <td>62</td>\n      <td>MATA DA PRAIA</td>\n      <td>0</td>\n      <td>0</td>\n      <td>0</td>\n      <td>0</td>\n      <td>0</td>\n      <td>0</td>\n      <td>No</td>\n      <td>2016</td>\n      <td>04</td>\n      <td>29</td>\n      <td>2016</td>\n      <td>04</td>\n      <td>29</td>\n    </tr>\n    <tr>\n      <th>3</th>\n      <td>F</td>\n      <td>2016-04-29 17:29:31</td>\n      <td>2016-04-29</td>\n      <td>8</td>\n      <td>PONTAL DE CAMBURI</td>\n      <td>0</td>\n      <td>0</td>\n      <td>0</td>\n      <td>0</td>\n      <td>0</td>\n      <td>0</td>\n      <td>No</td>\n      <td>2016</td>\n      <td>04</td>\n      <td>29</td>\n      <td>2016</td>\n      <td>04</td>\n      <td>29</td>\n    </tr>\n    <tr>\n      <th>4</th>\n      <td>F</td>\n      <td>2016-04-29 16:07:23</td>\n      <td>2016-04-29</td>\n      <td>56</td>\n      <td>JARDIM DA PENHA</td>\n      <td>0</td>\n      <td>1</td>\n      <td>1</td>\n      <td>0</td>\n      <td>0</td>\n      <td>0</td>\n      <td>No</td>\n      <td>2016</td>\n      <td>04</td>\n      <td>29</td>\n      <td>2016</td>\n      <td>04</td>\n      <td>29</td>\n    </tr>\n  </tbody>\n</table>\n</div>"
     },
     "metadata": {},
     "output_type": "execute_result",
     "execution_count": 33
    }
   ],
   "source": [
    "df_final.head()\n"
   ]
  },
  {
   "cell_type": "code",
   "execution_count": 34,
   "metadata": {
    "pycharm": {
     "is_executing": false,
     "name": "#%%\n"
    }
   },
   "outputs": [
    {
     "name": "stdout",
     "text": [
      "<class 'pandas.core.frame.DataFrame'>\n",
      "RangeIndex: 109892 entries, 0 to 109891\n",
      "Data columns (total 18 columns):\n",
      " #   Column          Non-Null Count   Dtype         \n",
      "---  ------          --------------   -----         \n",
      " 0   Gender          109892 non-null  object        \n",
      " 1   ScheduledDay    109892 non-null  datetime64[ns]\n",
      " 2   AppointmentDay  109892 non-null  datetime64[ns]\n",
      " 3   Age             109892 non-null  int64         \n",
      " 4   Neighbourhood   109892 non-null  object        \n",
      " 5   Scholarship     109892 non-null  int64         \n",
      " 6   Hipertension    109892 non-null  int64         \n",
      " 7   Diabetes        109892 non-null  int64         \n",
      " 8   Alcoholism      109892 non-null  int64         \n",
      " 9   Handcap         109892 non-null  int64         \n",
      " 10  SMS_received    109892 non-null  int64         \n",
      " 11  No-show         109892 non-null  object        \n",
      " 12  sYear           109892 non-null  object        \n",
      " 13  sMonth          109892 non-null  object        \n",
      " 14  sDay            109892 non-null  object        \n",
      " 15  aYear           109892 non-null  object        \n",
      " 16  aMonth          109892 non-null  object        \n",
      " 17  aDay            109892 non-null  object        \n",
      "dtypes: datetime64[ns](2), int64(7), object(9)\n",
      "memory usage: 15.1+ MB\n"
     ],
     "output_type": "stream"
    }
   ],
   "source": [
    "df_final.info()\n"
   ]
  },
  {
   "cell_type": "markdown",
   "metadata": {
    "pycharm": {
     "name": "#%% md\n"
    }
   },
   "source": [
    "Now to change the order of the newly created columns so that they are easily \n",
    "readable"
   ]
  },
  {
   "cell_type": "code",
   "execution_count": 35,
   "metadata": {
    "pycharm": {
     "is_executing": false,
     "name": "#%%\n"
    }
   },
   "outputs": [],
   "source": [
    "cols = df_final.columns.tolist()\n",
    "cols = ['Gender','ScheduledDay','sYear','sMonth','sDay','AppointmentDay',\n",
    "        'aYear','aMonth','aDay','Age','Neighbourhood','Scholarship',\n",
    "        'Hipertension','Diabetes','Alcoholism','Handcap','SMS_received',\n",
    "        'No-show']\n"
   ]
  },
  {
   "cell_type": "code",
   "execution_count": 36,
   "metadata": {
    "pycharm": {
     "is_executing": false,
     "name": "#%%\n"
    }
   },
   "outputs": [],
   "source": [
    "df_final=df_final[cols]"
   ]
  },
  {
   "cell_type": "code",
   "execution_count": 37,
   "metadata": {
    "pycharm": {
     "is_executing": false,
     "name": "#%%\n"
    }
   },
   "outputs": [
    {
     "data": {
      "text/plain": "  Gender        ScheduledDay sYear sMonth sDay AppointmentDay aYear aMonth  \\\n0      F 2016-04-29 18:38:08  2016     04   29     2016-04-29  2016     04   \n1      M 2016-04-29 16:08:27  2016     04   29     2016-04-29  2016     04   \n2      F 2016-04-29 16:19:04  2016     04   29     2016-04-29  2016     04   \n\n  aDay  Age    Neighbourhood  Scholarship  Hipertension  Diabetes  Alcoholism  \\\n0   29   62  JARDIM DA PENHA            0             1         0           0   \n1   29   56  JARDIM DA PENHA            0             0         0           0   \n2   29   62    MATA DA PRAIA            0             0         0           0   \n\n   Handcap  SMS_received No-show  \n0        0             0      No  \n1        0             0      No  \n2        0             0      No  ",
      "text/html": "<div>\n<style scoped>\n    .dataframe tbody tr th:only-of-type {\n        vertical-align: middle;\n    }\n\n    .dataframe tbody tr th {\n        vertical-align: top;\n    }\n\n    .dataframe thead th {\n        text-align: right;\n    }\n</style>\n<table border=\"1\" class=\"dataframe\">\n  <thead>\n    <tr style=\"text-align: right;\">\n      <th></th>\n      <th>Gender</th>\n      <th>ScheduledDay</th>\n      <th>sYear</th>\n      <th>sMonth</th>\n      <th>sDay</th>\n      <th>AppointmentDay</th>\n      <th>aYear</th>\n      <th>aMonth</th>\n      <th>aDay</th>\n      <th>Age</th>\n      <th>Neighbourhood</th>\n      <th>Scholarship</th>\n      <th>Hipertension</th>\n      <th>Diabetes</th>\n      <th>Alcoholism</th>\n      <th>Handcap</th>\n      <th>SMS_received</th>\n      <th>No-show</th>\n    </tr>\n  </thead>\n  <tbody>\n    <tr>\n      <th>0</th>\n      <td>F</td>\n      <td>2016-04-29 18:38:08</td>\n      <td>2016</td>\n      <td>04</td>\n      <td>29</td>\n      <td>2016-04-29</td>\n      <td>2016</td>\n      <td>04</td>\n      <td>29</td>\n      <td>62</td>\n      <td>JARDIM DA PENHA</td>\n      <td>0</td>\n      <td>1</td>\n      <td>0</td>\n      <td>0</td>\n      <td>0</td>\n      <td>0</td>\n      <td>No</td>\n    </tr>\n    <tr>\n      <th>1</th>\n      <td>M</td>\n      <td>2016-04-29 16:08:27</td>\n      <td>2016</td>\n      <td>04</td>\n      <td>29</td>\n      <td>2016-04-29</td>\n      <td>2016</td>\n      <td>04</td>\n      <td>29</td>\n      <td>56</td>\n      <td>JARDIM DA PENHA</td>\n      <td>0</td>\n      <td>0</td>\n      <td>0</td>\n      <td>0</td>\n      <td>0</td>\n      <td>0</td>\n      <td>No</td>\n    </tr>\n    <tr>\n      <th>2</th>\n      <td>F</td>\n      <td>2016-04-29 16:19:04</td>\n      <td>2016</td>\n      <td>04</td>\n      <td>29</td>\n      <td>2016-04-29</td>\n      <td>2016</td>\n      <td>04</td>\n      <td>29</td>\n      <td>62</td>\n      <td>MATA DA PRAIA</td>\n      <td>0</td>\n      <td>0</td>\n      <td>0</td>\n      <td>0</td>\n      <td>0</td>\n      <td>0</td>\n      <td>No</td>\n    </tr>\n  </tbody>\n</table>\n</div>"
     },
     "metadata": {},
     "output_type": "execute_result",
     "execution_count": 37
    }
   ],
   "source": [
    "df_final.head(3)\n"
   ]
  },
  {
   "cell_type": "markdown",
   "metadata": {
    "pycharm": {
     "name": "#%% md\n"
    }
   },
   "source": [
    "Our new data frame df_final has all the year month and day information form the \n",
    "ScheduledDay and AppointmentDay in new columns.\n",
    "This data frame has undergone the data clean up process which can be listed as\n",
    "1. Remove unwanted columns that don't contribute to your study\n",
    "2. Remove the NaN values if they exist \n",
    "3. Remove duplicated rows \n",
    "4. Reset index\n",
    "5. Convert columns with string date formats to datetime objects\n",
    "6. Extract year, month and day from the datetime columns and concatenate with\n",
    " existing data frame\n",
    " 7. Reorder columns as necessary\n",
    " \n",
    " "
   ]
  },
  {
   "cell_type": "code",
   "execution_count": 38,
   "metadata": {
    "pycharm": {
     "is_executing": false,
     "name": "#%%\n"
    }
   },
   "outputs": [],
   "source": [
    "# Exploratory Data Analysis (EDA)\n"
   ]
  },
  {
   "cell_type": "markdown",
   "metadata": {
    "pycharm": {
     "name": "#%% md\n"
    }
   },
   "source": [
    "Exploratory Data Analysis (EDA): Uses summary statistics and visualizations \n",
    "to better understand the data, and observe tendencies of the data, its \n",
    "quality and to formulate assumptions and the hypothesis of our analysis.\n"
   ]
  },
  {
   "cell_type": "code",
   "execution_count": 39,
   "metadata": {
    "pycharm": {
     "is_executing": false,
     "name": "#%%\n"
    }
   },
   "outputs": [],
   "source": [
    "import matplotlib.pyplot as plt\n",
    "import seaborn as sns\n",
    "sns.set_style('whitegrid')\n",
    "%matplotlib inline"
   ]
  },
  {
   "cell_type": "markdown",
   "metadata": {
    "pycharm": {
     "is_executing": false,
     "name": "#%% md\n"
    }
   },
   "source": [
    "The first thing to while analyzing categorical data is to observe the \n",
    "distribution of the dependent variable , which in our case is a categorical \n",
    "variable and can be represented well with a frequency distribution chart"
   ]
  },
  {
   "cell_type": "code",
   "execution_count": 40,
   "metadata": {
    "pycharm": {
     "is_executing": false,
     "name": "#%%\n"
    }
   },
   "outputs": [
    {
     "data": {
      "text/plain": "<matplotlib.axes._subplots.AxesSubplot at 0x20927ea8588>"
     },
     "metadata": {},
     "output_type": "execute_result",
     "execution_count": 40
    },
    {
     "data": {
      "text/plain": "<Figure size 432x288 with 1 Axes>",
      "image/png": "[encoded data removed]"
     },
     "metadata": {
      "needs_background": "light"
     },
     "output_type": "display_data"
    }
   ],
   "source": [
    "# plotting a barchart of the no show column\n",
    "sns.countplot(data=df_final, x='No-show')"
   ]
  },
  {
   "cell_type": "code",
   "execution_count": 41,
   "metadata": {
    "pycharm": {
     "is_executing": false,
     "name": "#%%\n"
    }
   },
   "outputs": [
    {
     "data": {
      "text/plain": "  Gender        ScheduledDay sYear sMonth sDay AppointmentDay aYear aMonth  \\\n0      F 2016-04-29 18:38:08  2016     04   29     2016-04-29  2016     04   \n1      M 2016-04-29 16:08:27  2016     04   29     2016-04-29  2016     04   \n2      F 2016-04-29 16:19:04  2016     04   29     2016-04-29  2016     04   \n\n  aDay  Age    Neighbourhood  Scholarship  Hipertension  Diabetes  Alcoholism  \\\n0   29   62  JARDIM DA PENHA            0             1         0           0   \n1   29   56  JARDIM DA PENHA            0             0         0           0   \n2   29   62    MATA DA PRAIA            0             0         0           0   \n\n   Handcap  SMS_received No-show  \n0        0             0      No  \n1        0             0      No  \n2        0             0      No  ",
      "text/html": "<div>\n<style scoped>\n    .dataframe tbody tr th:only-of-type {\n        vertical-align: middle;\n    }\n\n    .dataframe tbody tr th {\n        vertical-align: top;\n    }\n\n    .dataframe thead th {\n        text-align: right;\n    }\n</style>\n<table border=\"1\" class=\"dataframe\">\n  <thead>\n    <tr style=\"text-align: right;\">\n      <th></th>\n      <th>Gender</th>\n      <th>ScheduledDay</th>\n      <th>sYear</th>\n      <th>sMonth</th>\n      <th>sDay</th>\n      <th>AppointmentDay</th>\n      <th>aYear</th>\n      <th>aMonth</th>\n      <th>aDay</th>\n      <th>Age</th>\n      <th>Neighbourhood</th>\n      <th>Scholarship</th>\n      <th>Hipertension</th>\n      <th>Diabetes</th>\n      <th>Alcoholism</th>\n      <th>Handcap</th>\n      <th>SMS_received</th>\n      <th>No-show</th>\n    </tr>\n  </thead>\n  <tbody>\n    <tr>\n      <th>0</th>\n      <td>F</td>\n      <td>2016-04-29 18:38:08</td>\n      <td>2016</td>\n      <td>04</td>\n      <td>29</td>\n      <td>2016-04-29</td>\n      <td>2016</td>\n      <td>04</td>\n      <td>29</td>\n      <td>62</td>\n      <td>JARDIM DA PENHA</td>\n      <td>0</td>\n      <td>1</td>\n      <td>0</td>\n      <td>0</td>\n      <td>0</td>\n      <td>0</td>\n      <td>No</td>\n    </tr>\n    <tr>\n      <th>1</th>\n      <td>M</td>\n      <td>2016-04-29 16:08:27</td>\n      <td>2016</td>\n      <td>04</td>\n      <td>29</td>\n      <td>2016-04-29</td>\n      <td>2016</td>\n      <td>04</td>\n      <td>29</td>\n      <td>56</td>\n      <td>JARDIM DA PENHA</td>\n      <td>0</td>\n      <td>0</td>\n      <td>0</td>\n      <td>0</td>\n      <td>0</td>\n      <td>0</td>\n      <td>No</td>\n    </tr>\n    <tr>\n      <th>2</th>\n      <td>F</td>\n      <td>2016-04-29 16:19:04</td>\n      <td>2016</td>\n      <td>04</td>\n      <td>29</td>\n      <td>2016-04-29</td>\n      <td>2016</td>\n      <td>04</td>\n      <td>29</td>\n      <td>62</td>\n      <td>MATA DA PRAIA</td>\n      <td>0</td>\n      <td>0</td>\n      <td>0</td>\n      <td>0</td>\n      <td>0</td>\n      <td>0</td>\n      <td>No</td>\n    </tr>\n  </tbody>\n</table>\n</div>"
     },
     "metadata": {},
     "output_type": "execute_result",
     "execution_count": 41
    }
   ],
   "source": [
    "df_final.head(3)\n"
   ]
  },
  {
   "cell_type": "code",
   "execution_count": 42,
   "metadata": {
    "pycharm": {
     "is_executing": false,
     "name": "#%%\n"
    }
   },
   "outputs": [
    {
     "data": {
      "text/plain": "0    88216\n1    21676\nName: Hipertension, dtype: int64"
     },
     "metadata": {},
     "output_type": "execute_result",
     "execution_count": 42
    }
   ],
   "source": [
    "df_final.Hipertension.value_counts()\n"
   ]
  },
  {
   "cell_type": "code",
   "execution_count": 43,
   "metadata": {
    "pycharm": {
     "is_executing": false
    }
   },
   "outputs": [
    {
     "data": {
      "text/plain": "0    99091\n1    10801\nName: Scholarship, dtype: int64"
     },
     "metadata": {},
     "output_type": "execute_result",
     "execution_count": 43
    }
   ],
   "source": [
    "df_final.Scholarship.value_counts()"
   ]
  },
  {
   "cell_type": "code",
   "execution_count": 44,
   "metadata": {
    "pycharm": {
     "is_executing": false
    }
   },
   "outputs": [
    {
     "data": {
      "text/plain": "0    101999\n1      7893\nName: Diabetes, dtype: int64"
     },
     "metadata": {},
     "output_type": "execute_result",
     "execution_count": 44
    }
   ],
   "source": [
    "df_final.Diabetes.value_counts()"
   ]
  },
  {
   "cell_type": "code",
   "execution_count": 45,
   "metadata": {
    "pycharm": {
     "is_executing": false
    }
   },
   "outputs": [
    {
     "data": {
      "text/plain": "0    106548\n1      3344\nName: Alcoholism, dtype: int64"
     },
     "metadata": {},
     "output_type": "execute_result",
     "execution_count": 45
    }
   ],
   "source": [
    "df_final.Alcoholism.value_counts()"
   ]
  },
  {
   "cell_type": "code",
   "execution_count": 46,
   "metadata": {
    "pycharm": {
     "is_executing": false
    }
   },
   "outputs": [
    {
     "data": {
      "text/plain": "0    107673\n1      2023\n2       182\n3        11\n4         3\nName: Handcap, dtype: int64"
     },
     "metadata": {},
     "output_type": "execute_result",
     "execution_count": 46
    }
   ],
   "source": [
    "df_final.Handcap.value_counts()"
   ]
  },
  {
   "cell_type": "code",
   "execution_count": 47,
   "metadata": {
    "pycharm": {
     "is_executing": false
    }
   },
   "outputs": [],
   "source": [
    "\n",
    "#Resource: shorturl.at/blsDR\n",
    "def categorical_summarized(dataframe, x=None, y=None, hue=None, palette='Set1', verbose=True):\n",
    "    '''\n",
    "    Helper function that gives a quick summary of a given column of categorical data\n",
    "\n",
    "    Arguments\n",
    "    =========\n",
    "    dataframe: pandas dataframe\n",
    "    x: str. horizontal axis to plot the labels of categorical data, y would be the count\n",
    "    y: str. vertical axis to plot the labels of categorical data, x would be the count\n",
    "    hue: str. if you want to compare it another variable (usually the target variable)\n",
    "    palette: array-like. Colour of the plot\n",
    "\n",
    "    Returns\n",
    "    =======\n",
    "    Quick Stats of the data and also the count plot\n",
    "    '''\n",
    "    if x == None:\n",
    "        column_interested = y\n",
    "    else:\n",
    "        column_interested = x\n",
    "    series = dataframe[column_interested]\n",
    "    print(series.describe())\n",
    "    print('mode: ', series.mode())\n",
    "    if verbose:\n",
    "        print('='*80)\n",
    "        print(series.value_counts())\n",
    "\n",
    "    sns.countplot(x=x, y=y, hue=hue, data=dataframe, palette=palette)\n",
    "    plt.show()"
   ]
  },
  {
   "cell_type": "code",
   "execution_count": 48,
   "metadata": {
    "pycharm": {
     "is_executing": false
    }
   },
   "outputs": [
    {
     "name": "stdout",
     "text": [
      "count     109892\n",
      "unique         2\n",
      "top           No\n",
      "freq       87794\n",
      "Name: No-show, dtype: object\n",
      "mode:  0    No\n",
      "dtype: object\n",
      "================================================================================\n",
      "No     87794\n",
      "Yes    22098\n",
      "Name: No-show, dtype: int64\n"
     ],
     "output_type": "stream"
    },
    {
     "data": {
      "text/plain": "<Figure size 432x288 with 1 Axes>",
      "image/png": "[encoded data removed]"
     },
     "metadata": {
      "needs_background": "light"
     },
     "output_type": "display_data"
    }
   ],
   "source": [
    "c_pallete = ['tab:blue','tab:orange']\n",
    "categorical_summarized(df_final,x='No-show',hue='Hipertension',palette=c_pallete)"
   ]
  },
  {
   "cell_type": "code",
   "execution_count": 49,
   "metadata": {
    "pycharm": {
     "is_executing": false
    }
   },
   "outputs": [
    {
     "name": "stdout",
     "text": [
      "count     109892\n",
      "unique         2\n",
      "top           No\n",
      "freq       87794\n",
      "Name: No-show, dtype: object\n",
      "mode:  0    No\n",
      "dtype: object\n",
      "================================================================================\n",
      "No     87794\n",
      "Yes    22098\n",
      "Name: No-show, dtype: int64\n"
     ],
     "output_type": "stream"
    },
    {
     "data": {
      "text/plain": "<Figure size 432x288 with 1 Axes>",
      "image/png": "[encoded data removed]"
     },
     "metadata": {
      "needs_background": "light"
     },
     "output_type": "display_data"
    }
   ],
   "source": [
    "c_pallete = ['tab:green','tab:red']\n",
    "categorical_summarized(df_final,x='No-show',hue='Diabetes',palette=c_pallete)"
   ]
  },
  {
   "cell_type": "code",
   "execution_count": 50,
   "metadata": {
    "pycharm": {
     "is_executing": false
    }
   },
   "outputs": [
    {
     "name": "stdout",
     "text": [
      "count     109892\n",
      "unique         2\n",
      "top           No\n",
      "freq       87794\n",
      "Name: No-show, dtype: object\n",
      "mode:  0    No\n",
      "dtype: object\n",
      "================================================================================\n",
      "No     87794\n",
      "Yes    22098\n",
      "Name: No-show, dtype: int64\n"
     ],
     "output_type": "stream"
    },
    {
     "data": {
      "text/plain": "<Figure size 432x288 with 1 Axes>",
      "image/png": "[encoded data removed]"
     },
     "metadata": {
      "needs_background": "light"
     },
     "output_type": "display_data"
    }
   ],
   "source": [
    "c_pallete = ['tab:blue','tab:purple']\n",
    "categorical_summarized(df_final,x='No-show',hue='Alcoholism',palette=c_pallete)"
   ]
  },
  {
   "cell_type": "code",
   "execution_count": 51,
   "metadata": {
    "pycharm": {
     "is_executing": false
    }
   },
   "outputs": [
    {
     "name": "stdout",
     "text": [
      "count     109892\n",
      "unique         2\n",
      "top           No\n",
      "freq       87794\n",
      "Name: No-show, dtype: object\n",
      "mode:  0    No\n",
      "dtype: object\n",
      "================================================================================\n",
      "No     87794\n",
      "Yes    22098\n",
      "Name: No-show, dtype: int64\n"
     ],
     "output_type": "stream"
    },
    {
     "data": {
      "text/plain": "<Figure size 432x288 with 1 Axes>",
      "image/png": "[encoded data removed]"
     },
     "metadata": {
      "needs_background": "light"
     },
     "output_type": "display_data"
    }
   ],
   "source": [
    "c_pallete = ['tab:cyan','tab:purple']\n",
    "categorical_summarized(df_final,x='No-show',hue='SMS_received',palette=c_pallete)"
   ]
  },
  {
   "cell_type": "code",
   "execution_count": 52,
   "metadata": {
    "pycharm": {
     "is_executing": false
    }
   },
   "outputs": [
    {
     "name": "stdout",
     "text": [
      "count     109892\n",
      "unique         2\n",
      "top           No\n",
      "freq       87794\n",
      "Name: No-show, dtype: object\n",
      "mode:  0    No\n",
      "dtype: object\n",
      "================================================================================\n",
      "No     87794\n",
      "Yes    22098\n",
      "Name: No-show, dtype: int64\n"
     ],
     "output_type": "stream"
    },
    {
     "data": {
      "text/plain": "<Figure size 432x288 with 1 Axes>",
      "image/png": "[encoded data removed]"
     },
     "metadata": {
      "needs_background": "light"
     },
     "output_type": "display_data"
    }
   ],
   "source": [
    "c_pallete = ['tab:green','tab:cyan']\n",
    "categorical_summarized(df_final,x='No-show',hue='Scholarship',palette=c_pallete)"
   ]
  },
  {
   "cell_type": "code",
   "execution_count": 53,
   "metadata": {
    "pycharm": {
     "is_executing": false
    }
   },
   "outputs": [
    {
     "name": "stdout",
     "text": [
      "count     109892\n",
      "unique         2\n",
      "top           No\n",
      "freq       87794\n",
      "Name: No-show, dtype: object\n",
      "mode:  0    No\n",
      "dtype: object\n",
      "================================================================================\n",
      "No     87794\n",
      "Yes    22098\n",
      "Name: No-show, dtype: int64\n"
     ],
     "output_type": "stream"
    },
    {
     "data": {
      "text/plain": "<Figure size 432x288 with 1 Axes>",
      "image/png": "[encoded data removed]"
     },
     "metadata": {
      "needs_background": "light"
     },
     "output_type": "display_data"
    }
   ],
   "source": [
    "c_pallete = ['tab:blue','tab:cyan']\n",
    "categorical_summarized(df_final,x='No-show',hue='Gender',palette=c_pallete)"
   ]
  },
  {
   "cell_type": "code",
   "execution_count": 54,
   "metadata": {
    "pycharm": {
     "is_executing": false
    }
   },
   "outputs": [
    {
     "data": {
      "text/plain": "05    67074\n04    25120\n06    13717\n03     3579\n02      280\n12       61\n01       60\n11        1\nName: sMonth, dtype: int64"
     },
     "metadata": {},
     "output_type": "execute_result",
     "execution_count": 54
    }
   ],
   "source": [
    "df_final['sMonth'].value_counts()"
   ]
  },
  {
   "cell_type": "code",
   "execution_count": 55,
   "metadata": {
    "pycharm": {
     "is_executing": false
    }
   },
   "outputs": [
    {
     "data": {
      "text/plain": "2016    109830\n2015        62\nName: sYear, dtype: int64"
     },
     "metadata": {},
     "output_type": "execute_result",
     "execution_count": 55
    }
   ],
   "source": [
    "df_final['sYear'].value_counts()"
   ]
  },
  {
   "cell_type": "code",
   "execution_count": 56,
   "metadata": {
    "pycharm": {
     "is_executing": false
    }
   },
   "outputs": [
    {
     "data": {
      "text/plain": "  Gender        ScheduledDay sYear sMonth sDay AppointmentDay aYear aMonth  \\\n0      F 2016-04-29 18:38:08  2016     04   29     2016-04-29  2016     04   \n1      M 2016-04-29 16:08:27  2016     04   29     2016-04-29  2016     04   \n2      F 2016-04-29 16:19:04  2016     04   29     2016-04-29  2016     04   \n\n  aDay  Age    Neighbourhood  Scholarship  Hipertension  Diabetes  Alcoholism  \\\n0   29   62  JARDIM DA PENHA            0             1         0           0   \n1   29   56  JARDIM DA PENHA            0             0         0           0   \n2   29   62    MATA DA PRAIA            0             0         0           0   \n\n   Handcap  SMS_received No-show  \n0        0             0      No  \n1        0             0      No  \n2        0             0      No  ",
      "text/html": "<div>\n<style scoped>\n    .dataframe tbody tr th:only-of-type {\n        vertical-align: middle;\n    }\n\n    .dataframe tbody tr th {\n        vertical-align: top;\n    }\n\n    .dataframe thead th {\n        text-align: right;\n    }\n</style>\n<table border=\"1\" class=\"dataframe\">\n  <thead>\n    <tr style=\"text-align: right;\">\n      <th></th>\n      <th>Gender</th>\n      <th>ScheduledDay</th>\n      <th>sYear</th>\n      <th>sMonth</th>\n      <th>sDay</th>\n      <th>AppointmentDay</th>\n      <th>aYear</th>\n      <th>aMonth</th>\n      <th>aDay</th>\n      <th>Age</th>\n      <th>Neighbourhood</th>\n      <th>Scholarship</th>\n      <th>Hipertension</th>\n      <th>Diabetes</th>\n      <th>Alcoholism</th>\n      <th>Handcap</th>\n      <th>SMS_received</th>\n      <th>No-show</th>\n    </tr>\n  </thead>\n  <tbody>\n    <tr>\n      <th>0</th>\n      <td>F</td>\n      <td>2016-04-29 18:38:08</td>\n      <td>2016</td>\n      <td>04</td>\n      <td>29</td>\n      <td>2016-04-29</td>\n      <td>2016</td>\n      <td>04</td>\n      <td>29</td>\n      <td>62</td>\n      <td>JARDIM DA PENHA</td>\n      <td>0</td>\n      <td>1</td>\n      <td>0</td>\n      <td>0</td>\n      <td>0</td>\n      <td>0</td>\n      <td>No</td>\n    </tr>\n    <tr>\n      <th>1</th>\n      <td>M</td>\n      <td>2016-04-29 16:08:27</td>\n      <td>2016</td>\n      <td>04</td>\n      <td>29</td>\n      <td>2016-04-29</td>\n      <td>2016</td>\n      <td>04</td>\n      <td>29</td>\n      <td>56</td>\n      <td>JARDIM DA PENHA</td>\n      <td>0</td>\n      <td>0</td>\n      <td>0</td>\n      <td>0</td>\n      <td>0</td>\n      <td>0</td>\n      <td>No</td>\n    </tr>\n    <tr>\n      <th>2</th>\n      <td>F</td>\n      <td>2016-04-29 16:19:04</td>\n      <td>2016</td>\n      <td>04</td>\n      <td>29</td>\n      <td>2016-04-29</td>\n      <td>2016</td>\n      <td>04</td>\n      <td>29</td>\n      <td>62</td>\n      <td>MATA DA PRAIA</td>\n      <td>0</td>\n      <td>0</td>\n      <td>0</td>\n      <td>0</td>\n      <td>0</td>\n      <td>0</td>\n      <td>No</td>\n    </tr>\n  </tbody>\n</table>\n</div>"
     },
     "metadata": {},
     "output_type": "execute_result",
     "execution_count": 56
    }
   ],
   "source": [
    "df_final.head(3)"
   ]
  },
  {
   "cell_type": "code",
   "execution_count": 57,
   "metadata": {
    "pycharm": {
     "is_executing": false
    }
   },
   "outputs": [],
   "source": [
    "df_final.drop('sYear',axis=1,inplace=True)"
   ]
  },
  {
   "cell_type": "code",
   "execution_count": 58,
   "metadata": {
    "pycharm": {
     "is_executing": false
    }
   },
   "outputs": [],
   "source": [
    "df_final.drop('aYear',axis=1,inplace=True)"
   ]
  },
  {
   "cell_type": "code",
   "execution_count": 59,
   "metadata": {
    "pycharm": {
     "is_executing": false
    }
   },
   "outputs": [
    {
     "data": {
      "text/plain": "  Gender        ScheduledDay sMonth sDay AppointmentDay aMonth aDay  Age  \\\n0      F 2016-04-29 18:38:08     04   29     2016-04-29     04   29   62   \n1      M 2016-04-29 16:08:27     04   29     2016-04-29     04   29   56   \n2      F 2016-04-29 16:19:04     04   29     2016-04-29     04   29   62   \n\n     Neighbourhood  Scholarship  Hipertension  Diabetes  Alcoholism  Handcap  \\\n0  JARDIM DA PENHA            0             1         0           0        0   \n1  JARDIM DA PENHA            0             0         0           0        0   \n2    MATA DA PRAIA            0             0         0           0        0   \n\n   SMS_received No-show  \n0             0      No  \n1             0      No  \n2             0      No  ",
      "text/html": "<div>\n<style scoped>\n    .dataframe tbody tr th:only-of-type {\n        vertical-align: middle;\n    }\n\n    .dataframe tbody tr th {\n        vertical-align: top;\n    }\n\n    .dataframe thead th {\n        text-align: right;\n    }\n</style>\n<table border=\"1\" class=\"dataframe\">\n  <thead>\n    <tr style=\"text-align: right;\">\n      <th></th>\n      <th>Gender</th>\n      <th>ScheduledDay</th>\n      <th>sMonth</th>\n      <th>sDay</th>\n      <th>AppointmentDay</th>\n      <th>aMonth</th>\n      <th>aDay</th>\n      <th>Age</th>\n      <th>Neighbourhood</th>\n      <th>Scholarship</th>\n      <th>Hipertension</th>\n      <th>Diabetes</th>\n      <th>Alcoholism</th>\n      <th>Handcap</th>\n      <th>SMS_received</th>\n      <th>No-show</th>\n    </tr>\n  </thead>\n  <tbody>\n    <tr>\n      <th>0</th>\n      <td>F</td>\n      <td>2016-04-29 18:38:08</td>\n      <td>04</td>\n      <td>29</td>\n      <td>2016-04-29</td>\n      <td>04</td>\n      <td>29</td>\n      <td>62</td>\n      <td>JARDIM DA PENHA</td>\n      <td>0</td>\n      <td>1</td>\n      <td>0</td>\n      <td>0</td>\n      <td>0</td>\n      <td>0</td>\n      <td>No</td>\n    </tr>\n    <tr>\n      <th>1</th>\n      <td>M</td>\n      <td>2016-04-29 16:08:27</td>\n      <td>04</td>\n      <td>29</td>\n      <td>2016-04-29</td>\n      <td>04</td>\n      <td>29</td>\n      <td>56</td>\n      <td>JARDIM DA PENHA</td>\n      <td>0</td>\n      <td>0</td>\n      <td>0</td>\n      <td>0</td>\n      <td>0</td>\n      <td>0</td>\n      <td>No</td>\n    </tr>\n    <tr>\n      <th>2</th>\n      <td>F</td>\n      <td>2016-04-29 16:19:04</td>\n      <td>04</td>\n      <td>29</td>\n      <td>2016-04-29</td>\n      <td>04</td>\n      <td>29</td>\n      <td>62</td>\n      <td>MATA DA PRAIA</td>\n      <td>0</td>\n      <td>0</td>\n      <td>0</td>\n      <td>0</td>\n      <td>0</td>\n      <td>0</td>\n      <td>No</td>\n    </tr>\n  </tbody>\n</table>\n</div>"
     },
     "metadata": {},
     "output_type": "execute_result",
     "execution_count": 59
    }
   ],
   "source": [
    "df_final.head(3)"
   ]
  },
  {
   "cell_type": "code",
   "execution_count": 60,
   "metadata": {
    "pycharm": {
     "is_executing": false
    }
   },
   "outputs": [],
   "source": [
    "df_mapd = df_final.copy() #creating a copy of the dataframe"
   ]
  },
  {
   "cell_type": "code",
   "execution_count": 61,
   "metadata": {
    "pycharm": {
     "is_executing": false
    }
   },
   "outputs": [],
   "source": [
    "df_mapd['Gender_mapd']=df_mapd.Gender.map({'F':0,'M':1}) #using map function to convert the Gender column to 0 for 'F' and 1 for 'M'"
   ]
  },
  {
   "cell_type": "code",
   "execution_count": 62,
   "metadata": {
    "pycharm": {
     "is_executing": false,
     "name": "#%%\n"
    }
   },
   "outputs": [],
   "source": [
    "df_mapd['Noshow_mapd']=df_mapd['No-show'].map({'No':0,'Yes':1})"
   ]
  },
  {
   "cell_type": "code",
   "execution_count": 63,
   "metadata": {
    "pycharm": {
     "is_executing": false
    }
   },
   "outputs": [
    {
     "data": {
      "text/plain": "  Gender        ScheduledDay sMonth sDay AppointmentDay aMonth aDay  Age  \\\n0      F 2016-04-29 18:38:08     04   29     2016-04-29     04   29   62   \n1      M 2016-04-29 16:08:27     04   29     2016-04-29     04   29   56   \n2      F 2016-04-29 16:19:04     04   29     2016-04-29     04   29   62   \n3      F 2016-04-29 17:29:31     04   29     2016-04-29     04   29    8   \n4      F 2016-04-29 16:07:23     04   29     2016-04-29     04   29   56   \n\n       Neighbourhood  Scholarship  Hipertension  Diabetes  Alcoholism  \\\n0    JARDIM DA PENHA            0             1         0           0   \n1    JARDIM DA PENHA            0             0         0           0   \n2      MATA DA PRAIA            0             0         0           0   \n3  PONTAL DE CAMBURI            0             0         0           0   \n4    JARDIM DA PENHA            0             1         1           0   \n\n   Handcap  SMS_received No-show  Gender_mapd  Noshow_mapd  \n0        0             0      No            0            0  \n1        0             0      No            1            0  \n2        0             0      No            0            0  \n3        0             0      No            0            0  \n4        0             0      No            0            0  ",
      "text/html": "<div>\n<style scoped>\n    .dataframe tbody tr th:only-of-type {\n        vertical-align: middle;\n    }\n\n    .dataframe tbody tr th {\n        vertical-align: top;\n    }\n\n    .dataframe thead th {\n        text-align: right;\n    }\n</style>\n<table border=\"1\" class=\"dataframe\">\n  <thead>\n    <tr style=\"text-align: right;\">\n      <th></th>\n      <th>Gender</th>\n      <th>ScheduledDay</th>\n      <th>sMonth</th>\n      <th>sDay</th>\n      <th>AppointmentDay</th>\n      <th>aMonth</th>\n      <th>aDay</th>\n      <th>Age</th>\n      <th>Neighbourhood</th>\n      <th>Scholarship</th>\n      <th>Hipertension</th>\n      <th>Diabetes</th>\n      <th>Alcoholism</th>\n      <th>Handcap</th>\n      <th>SMS_received</th>\n      <th>No-show</th>\n      <th>Gender_mapd</th>\n      <th>Noshow_mapd</th>\n    </tr>\n  </thead>\n  <tbody>\n    <tr>\n      <th>0</th>\n      <td>F</td>\n      <td>2016-04-29 18:38:08</td>\n      <td>04</td>\n      <td>29</td>\n      <td>2016-04-29</td>\n      <td>04</td>\n      <td>29</td>\n      <td>62</td>\n      <td>JARDIM DA PENHA</td>\n      <td>0</td>\n      <td>1</td>\n      <td>0</td>\n      <td>0</td>\n      <td>0</td>\n      <td>0</td>\n      <td>No</td>\n      <td>0</td>\n      <td>0</td>\n    </tr>\n    <tr>\n      <th>1</th>\n      <td>M</td>\n      <td>2016-04-29 16:08:27</td>\n      <td>04</td>\n      <td>29</td>\n      <td>2016-04-29</td>\n      <td>04</td>\n      <td>29</td>\n      <td>56</td>\n      <td>JARDIM DA PENHA</td>\n      <td>0</td>\n      <td>0</td>\n      <td>0</td>\n      <td>0</td>\n      <td>0</td>\n      <td>0</td>\n      <td>No</td>\n      <td>1</td>\n      <td>0</td>\n    </tr>\n    <tr>\n      <th>2</th>\n      <td>F</td>\n      <td>2016-04-29 16:19:04</td>\n      <td>04</td>\n      <td>29</td>\n      <td>2016-04-29</td>\n      <td>04</td>\n      <td>29</td>\n      <td>62</td>\n      <td>MATA DA PRAIA</td>\n      <td>0</td>\n      <td>0</td>\n      <td>0</td>\n      <td>0</td>\n      <td>0</td>\n      <td>0</td>\n      <td>No</td>\n      <td>0</td>\n      <td>0</td>\n    </tr>\n    <tr>\n      <th>3</th>\n      <td>F</td>\n      <td>2016-04-29 17:29:31</td>\n      <td>04</td>\n      <td>29</td>\n      <td>2016-04-29</td>\n      <td>04</td>\n      <td>29</td>\n      <td>8</td>\n      <td>PONTAL DE CAMBURI</td>\n      <td>0</td>\n      <td>0</td>\n      <td>0</td>\n      <td>0</td>\n      <td>0</td>\n      <td>0</td>\n      <td>No</td>\n      <td>0</td>\n      <td>0</td>\n    </tr>\n    <tr>\n      <th>4</th>\n      <td>F</td>\n      <td>2016-04-29 16:07:23</td>\n      <td>04</td>\n      <td>29</td>\n      <td>2016-04-29</td>\n      <td>04</td>\n      <td>29</td>\n      <td>56</td>\n      <td>JARDIM DA PENHA</td>\n      <td>0</td>\n      <td>1</td>\n      <td>1</td>\n      <td>0</td>\n      <td>0</td>\n      <td>0</td>\n      <td>No</td>\n      <td>0</td>\n      <td>0</td>\n    </tr>\n  </tbody>\n</table>\n</div>"
     },
     "metadata": {},
     "output_type": "execute_result",
     "execution_count": 63
    }
   ],
   "source": [
    "df_mapd.head()"
   ]
  },
  {
   "cell_type": "code",
   "execution_count": 64,
   "metadata": {
    "pycharm": {
     "is_executing": false
    }
   },
   "outputs": [],
   "source": [
    "df_mapd.drop('Gender',axis=1,inplace=True)"
   ]
  },
  {
   "cell_type": "code",
   "execution_count": 65,
   "metadata": {
    "pycharm": {
     "is_executing": false
    }
   },
   "outputs": [],
   "source": [
    "df_mapd.drop('No-show',axis=1,inplace=True)"
   ]
  },
  {
   "cell_type": "code",
   "execution_count": 66,
   "metadata": {
    "pycharm": {
     "is_executing": false
    },
    "scrolled": true
   },
   "outputs": [
    {
     "data": {
      "text/plain": "         ScheduledDay sMonth sDay AppointmentDay aMonth aDay  Age  \\\n0 2016-04-29 18:38:08     04   29     2016-04-29     04   29   62   \n1 2016-04-29 16:08:27     04   29     2016-04-29     04   29   56   \n2 2016-04-29 16:19:04     04   29     2016-04-29     04   29   62   \n\n     Neighbourhood  Scholarship  Hipertension  Diabetes  Alcoholism  Handcap  \\\n0  JARDIM DA PENHA            0             1         0           0        0   \n1  JARDIM DA PENHA            0             0         0           0        0   \n2    MATA DA PRAIA            0             0         0           0        0   \n\n   SMS_received  Gender_mapd  Noshow_mapd  \n0             0            0            0  \n1             0            1            0  \n2             0            0            0  ",
      "text/html": "<div>\n<style scoped>\n    .dataframe tbody tr th:only-of-type {\n        vertical-align: middle;\n    }\n\n    .dataframe tbody tr th {\n        vertical-align: top;\n    }\n\n    .dataframe thead th {\n        text-align: right;\n    }\n</style>\n<table border=\"1\" class=\"dataframe\">\n  <thead>\n    <tr style=\"text-align: right;\">\n      <th></th>\n      <th>ScheduledDay</th>\n      <th>sMonth</th>\n      <th>sDay</th>\n      <th>AppointmentDay</th>\n      <th>aMonth</th>\n      <th>aDay</th>\n      <th>Age</th>\n      <th>Neighbourhood</th>\n      <th>Scholarship</th>\n      <th>Hipertension</th>\n      <th>Diabetes</th>\n      <th>Alcoholism</th>\n      <th>Handcap</th>\n      <th>SMS_received</th>\n      <th>Gender_mapd</th>\n      <th>Noshow_mapd</th>\n    </tr>\n  </thead>\n  <tbody>\n    <tr>\n      <th>0</th>\n      <td>2016-04-29 18:38:08</td>\n      <td>04</td>\n      <td>29</td>\n      <td>2016-04-29</td>\n      <td>04</td>\n      <td>29</td>\n      <td>62</td>\n      <td>JARDIM DA PENHA</td>\n      <td>0</td>\n      <td>1</td>\n      <td>0</td>\n      <td>0</td>\n      <td>0</td>\n      <td>0</td>\n      <td>0</td>\n      <td>0</td>\n    </tr>\n    <tr>\n      <th>1</th>\n      <td>2016-04-29 16:08:27</td>\n      <td>04</td>\n      <td>29</td>\n      <td>2016-04-29</td>\n      <td>04</td>\n      <td>29</td>\n      <td>56</td>\n      <td>JARDIM DA PENHA</td>\n      <td>0</td>\n      <td>0</td>\n      <td>0</td>\n      <td>0</td>\n      <td>0</td>\n      <td>0</td>\n      <td>1</td>\n      <td>0</td>\n    </tr>\n    <tr>\n      <th>2</th>\n      <td>2016-04-29 16:19:04</td>\n      <td>04</td>\n      <td>29</td>\n      <td>2016-04-29</td>\n      <td>04</td>\n      <td>29</td>\n      <td>62</td>\n      <td>MATA DA PRAIA</td>\n      <td>0</td>\n      <td>0</td>\n      <td>0</td>\n      <td>0</td>\n      <td>0</td>\n      <td>0</td>\n      <td>0</td>\n      <td>0</td>\n    </tr>\n  </tbody>\n</table>\n</div>"
     },
     "metadata": {},
     "output_type": "execute_result",
     "execution_count": 66
    }
   ],
   "source": [
    "df_mapd.head(3)"
   ]
  },
  {
   "cell_type": "code",
   "execution_count": 67,
   "metadata": {
    "pycharm": {
     "is_executing": false
    }
   },
   "outputs": [
    {
     "data": {
      "text/plain": "[Text(0, 0, 'Showed Up'), Text(0, 0, 'No Show')]"
     },
     "metadata": {},
     "output_type": "execute_result",
     "execution_count": 67
    },
    {
     "data": {
      "text/plain": "<Figure size 432x288 with 1 Axes>",
      "image/png": "[encoded data removed]"
     },
     "metadata": {
      "needs_background": "light"
     },
     "output_type": "display_data"
    }
   ],
   "source": [
    "ax=sns.barplot(x=\"Noshow_mapd\",y=\"Hipertension\",hue=\"Hipertension\",data=df_mapd,estimator=lambda x: len(x) /len(df_mapd)*100)\n",
    "ax.set(xlabel=\"No-Show\",ylabel=\"Hipertension %\")\n",
    "xticklabel =['Showed Up','No Show']\n",
    "ax.set_xticklabels(xticklabel)"
   ]
  },
  {
   "cell_type": "code",
   "execution_count": 68,
   "metadata": {
    "pycharm": {
     "is_executing": false
    }
   },
   "outputs": [
    {
     "data": {
      "text/plain": "[Text(0, 0, 'Showed Up'), Text(0, 0, 'No Show')]"
     },
     "metadata": {},
     "output_type": "execute_result",
     "execution_count": 68
    },
    {
     "data": {
      "text/plain": "<Figure size 432x288 with 1 Axes>",
      "image/png": "[encoded data removed]"
     },
     "metadata": {
      "needs_background": "light"
     },
     "output_type": "display_data"
    }
   ],
   "source": [
    "c_pallete = ['tab:green','tab:red']\n",
    "ax=sns.barplot(x=\"Noshow_mapd\",y=\"Diabetes\",hue=\"Diabetes\",data=df_mapd,estimator=lambda x: len(x) /len(df_mapd)*100,palette=c_pallete)\n",
    "ax.set(xlabel=\"No-Show\",ylabel=\"Hipertension %\")\n",
    "xticklabel =['Showed Up','No Show']\n",
    "ax.set_xticklabels(xticklabel)"
   ]
  },
  {
   "cell_type": "code",
   "execution_count": 69,
   "metadata": {
    "pycharm": {
     "is_executing": false
    }
   },
   "outputs": [
    {
     "data": {
      "text/plain": "[Text(0, 0, 'Showed Up'), Text(0, 0, 'No Show')]"
     },
     "metadata": {},
     "output_type": "execute_result",
     "execution_count": 69
    },
    {
     "data": {
      "text/plain": "<Figure size 432x288 with 1 Axes>",
      "image/png": "[encoded data removed]"
     },
     "metadata": {
      "needs_background": "light"
     },
     "output_type": "display_data"
    }
   ],
   "source": [
    "c_pallete = ['tab:blue','tab:purple']\n",
    "ax=sns.barplot(x=\"Noshow_mapd\",y=\"Alcoholism\",hue=\"Alcoholism\",data=df_mapd,estimator=lambda x: len(x) /len(df_mapd)*100,palette=c_pallete)\n",
    "ax.set(xlabel=\"No-Show\",ylabel=\"Hipertension %\")\n",
    "xticklabel =['Showed Up','No Show']\n",
    "ax.set_xticklabels(xticklabel)"
   ]
  },
  {
   "cell_type": "code",
   "execution_count": 70,
   "metadata": {
    "pycharm": {
     "is_executing": false
    }
   },
   "outputs": [
    {
     "data": {
      "text/plain": "[Text(0, 0, 'Showed Up'), Text(0, 0, 'No Show')]"
     },
     "metadata": {},
     "output_type": "execute_result",
     "execution_count": 70
    },
    {
     "data": {
      "text/plain": "<Figure size 432x288 with 1 Axes>",
      "image/png": "[encoded data removed]"
     },
     "metadata": {
      "needs_background": "light"
     },
     "output_type": "display_data"
    }
   ],
   "source": [
    "c_pallete = ['tab:cyan','tab:purple']\n",
    "ax=sns.barplot(x=\"Noshow_mapd\",y=\"SMS_received\",hue=\"SMS_received\",data=df_mapd,estimator=lambda x: len(x) /len(df_mapd)*100,palette=c_pallete)\n",
    "ax.set(xlabel=\"No-Show\",ylabel=\"Hipertension %\")\n",
    "xticklabel =['Showed Up','No Show']\n",
    "ax.set_xticklabels(xticklabel)"
   ]
  },
  {
   "cell_type": "code",
   "execution_count": 71,
   "metadata": {
    "pycharm": {
     "is_executing": false
    }
   },
   "outputs": [
    {
     "data": {
      "text/plain": "[Text(0, 0, 'Showed Up'), Text(0, 0, 'No Show')]"
     },
     "metadata": {},
     "output_type": "execute_result",
     "execution_count": 71
    },
    {
     "data": {
      "text/plain": "<Figure size 432x288 with 1 Axes>",
      "image/png": "[encoded data removed]"
     },
     "metadata": {
      "needs_background": "light"
     },
     "output_type": "display_data"
    }
   ],
   "source": [
    "c_pallete = ['tab:cyan','tab:green']\n",
    "ax=sns.barplot(x=\"Noshow_mapd\",y=\"Scholarship\",hue=\"Scholarship\",data=df_mapd,estimator=lambda x: len(x) /len(df_mapd)*100,palette=c_pallete)\n",
    "ax.set(xlabel=\"No-Show\",ylabel=\"Hipertension %\")\n",
    "xticklabel =['Showed Up','No Show']\n",
    "ax.set_xticklabels(xticklabel)"
   ]
  },
  {
   "cell_type": "code",
   "execution_count": 72,
   "metadata": {
    "pycharm": {
     "is_executing": false
    }
   },
   "outputs": [
    {
     "data": {
      "text/plain": "[Text(0, 0, 'Showed Up'), Text(0, 0, 'No Show')]"
     },
     "metadata": {},
     "output_type": "execute_result",
     "execution_count": 72
    },
    {
     "data": {
      "text/plain": "<Figure size 432x288 with 1 Axes>",
      "image/png": "[encoded data removed]"
     },
     "metadata": {
      "needs_background": "light"
     },
     "output_type": "display_data"
    }
   ],
   "source": [
    "c_pallete = ['tab:cyan','tab:blue']\n",
    "ax=sns.barplot(x=\"Noshow_mapd\",y=\"Gender_mapd\",hue=\"Gender_mapd\",data=df_mapd,estimator=lambda x: len(x) /len(df_mapd)*100,palette=c_pallete)\n",
    "ax.set(xlabel=\"No-Show\",ylabel=\"Hipertension %\")\n",
    "xticklabel =['Showed Up','No Show']\n",
    "ax.set_xticklabels(xticklabel)"
   ]
  },
  {
   "cell_type": "markdown",
   "metadata": {},
   "source": [
    "## Feature engineering the 'Handcap' column to reduce the types of handicap to either 0 meaning no handicap or 1 meaning handicaped"
   ]
  },
  {
   "cell_type": "code",
   "execution_count": 73,
   "metadata": {
    "pycharm": {
     "is_executing": false
    }
   },
   "outputs": [],
   "source": [
    "df_mapd['Handcap_mapd']=df_mapd['Handcap'].apply(lambda x: 0 if x == 0 else 1 )"
   ]
  },
  {
   "cell_type": "code",
   "execution_count": 74,
   "metadata": {
    "pycharm": {
     "is_executing": false
    }
   },
   "outputs": [
    {
     "data": {
      "text/plain": "0    107673\n1      2219\nName: Handcap_mapd, dtype: int64"
     },
     "metadata": {},
     "output_type": "execute_result",
     "execution_count": 74
    }
   ],
   "source": [
    "df_mapd['Handcap_mapd'].value_counts()"
   ]
  },
  {
   "cell_type": "code",
   "execution_count": 75,
   "metadata": {
    "pycharm": {
     "is_executing": false
    }
   },
   "outputs": [
    {
     "data": {
      "text/plain": "0    107673\n1      2023\n2       182\n3        11\n4         3\nName: Handcap, dtype: int64"
     },
     "metadata": {},
     "output_type": "execute_result",
     "execution_count": 75
    }
   ],
   "source": [
    "df_mapd['Handcap'].value_counts()"
   ]
  },
  {
   "cell_type": "markdown",
   "metadata": {},
   "source": [
    "# Checking which month has the higest percentage of no shows"
   ]
  },
  {
   "cell_type": "code",
   "execution_count": 76,
   "metadata": {
    "pycharm": {
     "is_executing": false
    }
   },
   "outputs": [
    {
     "traceback": [
      "\u001b[1;31m---------------------------------------------------------------------------\u001b[0m",
      "\u001b[1;31mAttributeError\u001b[0m                            Traceback (most recent call last)",
      "\u001b[1;32m<ipython-input-76-150d1f14f8f4>\u001b[0m in \u001b[0;36m<module>\u001b[1;34m\u001b[0m\n\u001b[1;32m----> 1\u001b[1;33m \u001b[0mdf_mapd\u001b[0m\u001b[1;33m[\u001b[0m\u001b[1;34m'sDay_name'\u001b[0m\u001b[1;33m]\u001b[0m\u001b[1;33m=\u001b[0m\u001b[0mdf_mapd\u001b[0m\u001b[1;33m[\u001b[0m\u001b[1;34m'ScheduledDay'\u001b[0m\u001b[1;33m]\u001b[0m\u001b[1;33m.\u001b[0m\u001b[0mdt\u001b[0m\u001b[1;33m.\u001b[0m\u001b[0mweekday_name\u001b[0m \u001b[1;31m#converting the days from datetime format to days of the week\u001b[0m\u001b[1;33m\u001b[0m\u001b[0m\n\u001b[0m\u001b[0;32m      2\u001b[0m \u001b[1;33m\u001b[0m\u001b[0m\n",
      "\u001b[1;31mAttributeError\u001b[0m: 'DatetimeProperties' object has no attribute 'weekday_name'"
     ],
     "ename": "AttributeError",
     "evalue": "'DatetimeProperties' object has no attribute 'weekday_name'",
     "output_type": "error"
    }
   ],
   "source": [
    "df_mapd['sDay_name']=df_mapd['ScheduledDay'].dt.weekday_name #converting the days from datetime format to days of the week"
   ]
  },
  {
   "cell_type": "markdown",
   "metadata": {},
   "source": [
    "## Difference between the Scheduled day and Appointment day"
   ]
  },
  {
   "cell_type": "code",
   "execution_count": null,
   "metadata": {
    "pycharm": {
     "is_executing": false
    }
   },
   "outputs": [],
   "source": [
    "import datetime as dt\n",
    "#df['sDate']=df['ScheduledDay'].apply(lambda x: dt.datetime.strptime(x,'%Y-%m-%dT%Xz').strftime('%y-%m-%d'))\n",
    "#df_mapd['sDate']=(df_mapd['AppointmentDay']-df_mapd['ScheduledDay']).dt.days\n",
    "#df_diff = df_mapd['AppointmentDay'][109890]-df_mapd['ScheduledDay'][109890]\n",
    "#df_diff.days\n",
    "df_mapd['diff_days'] =(df_mapd['AppointmentDay']-df_mapd['ScheduledDay']).apply(lambda x: x.days)"
   ]
  },
  {
   "cell_type": "code",
   "execution_count": null,
   "metadata": {
    "pycharm": {
     "is_executing": false
    }
   },
   "outputs": [],
   "source": [
    "#trying to extract day from a timedelta format\n",
    "df_diff = abs(df_mapd['AppointmentDay'][19]-df_mapd['ScheduledDay'][19])\n",
    "df_diff.days"
   ]
  },
  {
   "cell_type": "code",
   "execution_count": null,
   "metadata": {
    "pycharm": {
     "is_executing": false
    }
   },
   "outputs": [],
   "source": [
    "df_mapd['diff_days'].value_counts()"
   ]
  },
  {
   "cell_type": "code",
   "execution_count": null,
   "metadata": {
    "pycharm": {
     "is_executing": false
    },
    "scrolled": true
   },
   "outputs": [],
   "source": [
    "#need boolean indexing to search for the particular -7 to work for loc method\n",
    "df_diff = df_mapd.loc[df_mapd['diff_days']== -7]\n",
    "df_diff"
   ]
  },
  {
   "cell_type": "code",
   "execution_count": null,
   "metadata": {
    "pycharm": {
     "is_executing": false
    },
    "scrolled": false
   },
   "outputs": [],
   "source": [
    "# dropping a row by a value: df_mapd.drop(['26880', 'Pima'])\n",
    "# dropping a row by index number\n",
    "df_mapd.drop(df_mapd.index[[26880,54929,63809,71891,71066]],inplace=True)\n"
   ]
  },
  {
   "cell_type": "code",
   "execution_count": null,
   "metadata": {
    "pycharm": {
     "is_executing": false
    }
   },
   "outputs": [],
   "source": [
    "#checking to ensure if any remaining -1 or -7 values exist in the dataframe\n",
    "df_diff = df_mapd.loc[df_mapd['diff_days']== -2]\n",
    "df_diff"
   ]
  },
  {
   "cell_type": "code",
   "execution_count": null,
   "metadata": {
    "pycharm": {
     "is_executing": false
    }
   },
   "outputs": [],
   "source": [
    "df_mapd.reset_index(drop=True, inplace=True) #Always important to reset index "
   ]
  },
  {
   "cell_type": "code",
   "execution_count": null,
   "metadata": {
    "pycharm": {
     "is_executing": false
    }
   },
   "outputs": [],
   "source": [
    "#As a final check we see that after resetting our index it has reduced down to 109886 from 109892\n",
    "df_mapd.info()"
   ]
  },
  {
   "cell_type": "code",
   "execution_count": null,
   "metadata": {
    "pycharm": {
     "is_executing": false
    }
   },
   "outputs": [],
   "source": [
    "# A check with value_counts shows us that problematic values such as -2 and -7 have been removed\n",
    "#df_mapd['diff_days'].value_counts()"
   ]
  },
  {
   "cell_type": "code",
   "execution_count": null,
   "metadata": {
    "pycharm": {
     "is_executing": false
    }
   },
   "outputs": [],
   "source": [
    "# It is important to realize that the diff_days values are -1 wherever the scheduledday and the appointmentday are same\n",
    "# The reason for this anomoly can be attributed to the fact that the SchduledDay column has a datetime object\n",
    "# which has time as well, while AppointmentDay column only has date\n",
    "# Thus when a difference between the two is calculated a value of 00h:00m:00s is assumed for the AppointmentDay\n",
    "# that results in this odd representation of -1 for days which are same and should have been 0\n",
    "# In order to over come this problem we will derive a column using abs and then calculating the difference from\n",
    "df_mapd['diff_days2'] =(df_mapd['AppointmentDay']-df_mapd['ScheduledDay']).apply(lambda x: abs(x).days)"
   ]
  },
  {
   "cell_type": "code",
   "execution_count": null,
   "metadata": {
    "pycharm": {
     "is_executing": false
    }
   },
   "outputs": [],
   "source": [
    "#checking to ensure no more negative values persist\n",
    "#df_mapd['diff_days2'].value_counts()"
   ]
  },
  {
   "cell_type": "code",
   "execution_count": null,
   "metadata": {
    "pycharm": {
     "is_executing": false
    }
   },
   "outputs": [],
   "source": [
    "#Drop the diff_days column as we don't need it anymore\n",
    "df_mapd.drop('diff_days',axis=1,inplace=True)"
   ]
  },
  {
   "cell_type": "code",
   "execution_count": null,
   "metadata": {
    "pycharm": {
     "is_executing": false
    }
   },
   "outputs": [],
   "source": [
    "df_mapd.tail()"
   ]
  },
  {
   "cell_type": "markdown",
   "metadata": {},
   "source": [
    "## We will next try to see which months among 'sMonth' column i.e. 'Schedule Month' has the highest rate of No-Show"
   ]
  },
  {
   "cell_type": "code",
   "execution_count": null,
   "metadata": {
    "pycharm": {
     "is_executing": false
    }
   },
   "outputs": [],
   "source": [
    "#First we try to narrow down to the columns of interest to us\n",
    "# creating a new dataframe to analyze on\n",
    "month_analysis = df_mapd[['Noshow_mapd','sMonth']] \n",
    "month_analysis.info()"
   ]
  },
  {
   "cell_type": "code",
   "execution_count": null,
   "metadata": {
    "pycharm": {
     "is_executing": false
    }
   },
   "outputs": [],
   "source": [
    "#filtering out values where the patients did not show up for the appointments\n",
    "month_analysis[month_analysis.Noshow_mapd == 1]['sMonth'].value_counts() \n"
   ]
  },
  {
   "cell_type": "code",
   "execution_count": null,
   "metadata": {
    "pycharm": {
     "is_executing": false
    }
   },
   "outputs": [],
   "source": [
    "\n",
    "y=month_analysis[month_analysis.Noshow_mapd == 1].reset_index()\n",
    "y.drop('index',axis=1,inplace=True)\n",
    "y.head()\n",
    "#a=y.groupby('Noshow_mapd')['sMonth'].value_counts(normalize=True).mul(100)\n",
    "#a\n",
    "#b=month_analysis.groupby('sMonth')['Noshow_mapd'].value_counts(normalize=True).mul(100)\n",
    "#b"
   ]
  },
  {
   "cell_type": "code",
   "execution_count": null,
   "metadata": {
    "pycharm": {
     "is_executing": false
    }
   },
   "outputs": [],
   "source": [
    "#Here we are grouping Noshow_mapd with sMonth column to get only values\n",
    "#of Months where the patient didn't show up and converting the value counts to percentage\n",
    "#This process returns a Series\n",
    "\n",
    "Noshow_counts =y.groupby('Noshow_mapd')['sMonth'].value_counts(normalize=True).mul(100)\n",
    "Noshow_counts"
   ]
  },
  {
   "cell_type": "code",
   "execution_count": null,
   "metadata": {
    "pycharm": {
     "is_executing": false
    }
   },
   "outputs": [],
   "source": [
    "#Converting our series to dataframe\n",
    "months_percent=Noshow_counts.to_frame()\n",
    "months_percent.insert(0, \"months\", [5, 4, 6, 3,2,12,1], True) \n",
    "months_percent \n",
    "#question: How can I drop the left residue from the series operation"
   ]
  },
  {
   "cell_type": "code",
   "execution_count": null,
   "metadata": {
    "pycharm": {
     "is_executing": false
    }
   },
   "outputs": [],
   "source": [
    "#In this cell we plot the dataframe finally with a pallete \n",
    "#Whose color gradient is repective to the percentage of the observation\n",
    "#Also an interesting way to set the size of the font is to use .set_context method of seaborn\n",
    "fig=sns.barplot(x=\"months\",y=\"sMonth\",data=months_percent,palette=(\"Greens\"))\n",
    "fig.set(xlabel='Schedule Months', ylabel='% of No-Show')\n",
    "sns.set_context('talk')"
   ]
  },
  {
   "cell_type": "markdown",
   "metadata": {
    "pycharm": {
     "is_executing": false
    }
   },
   "source": [
    "## This section will help us analyze the number of no shows by days of the week"
   ]
  },
  {
   "cell_type": "code",
   "execution_count": null,
   "metadata": {
    "pycharm": {
     "is_executing": false
    }
   },
   "outputs": [],
   "source": [
    "#First we try to narrow down to the columns of interest to us\n",
    "# creating a new dataframe to analyze on\n",
    "day_analysis = df_mapd[['Noshow_mapd','sDay_name']] \n",
    "day_analysis.info()"
   ]
  },
  {
   "cell_type": "code",
   "execution_count": null,
   "metadata": {
    "pycharm": {
     "is_executing": false
    }
   },
   "outputs": [],
   "source": [
    "#filtering out values where the patients did not show up for the appointments\n",
    "day_analysis[day_analysis.Noshow_mapd == 1]['sDay_name'].value_counts()"
   ]
  },
  {
   "cell_type": "code",
   "execution_count": null,
   "metadata": {
    "pycharm": {
     "is_executing": false
    }
   },
   "outputs": [],
   "source": [
    "d=day_analysis[day_analysis.Noshow_mapd == 1].reset_index()\n",
    "d.drop('index',axis=1,inplace=True)\n",
    "d.head()"
   ]
  },
  {
   "cell_type": "code",
   "execution_count": null,
   "metadata": {
    "pycharm": {
     "is_executing": false
    }
   },
   "outputs": [],
   "source": [
    "#Here we are grouping Noshow_mapd with sDay_name column to get only values\n",
    "#of Days where the patient didn't show up and converting the value counts to percentage\n",
    "#This process returns a Series\n",
    "\n",
    "Noshowd_counts =d.groupby('Noshow_mapd')['sDay_name'].value_counts(normalize=True).mul(100)\n",
    "Noshowd_counts"
   ]
  },
  {
   "cell_type": "code",
   "execution_count": null,
   "metadata": {
    "pycharm": {
     "is_executing": false
    }
   },
   "outputs": [],
   "source": [
    "#Converting our series to dataframe\n",
    "day_percent=Noshowd_counts.to_frame()\n",
    "day_percent.insert(0, \"days\", ['Tuesday', 'Wednesday', 'Monday', 'Friday','Thursday','Saturday'], True) \n",
    "day_percent "
   ]
  },
  {
   "cell_type": "code",
   "execution_count": null,
   "metadata": {
    "pycharm": {
     "is_executing": false
    }
   },
   "outputs": [],
   "source": [
    "#In this cell we plot the dataframe finally with a pallete \n",
    "#Whose color gradient is repective to the percentage of the observation\n",
    "#Also an interesting way to set the size of the font is to use .set_context method of seaborn\n",
    "fig=sns.barplot(x=\"sDay_name\",y=\"days\",data=day_percent,palette=(\"Oranges\"))\n",
    "fig.set(xlabel='% of No-Show', ylabel='Days')\n",
    "sns.set_context('talk')"
   ]
  },
  {
   "cell_type": "markdown",
   "metadata": {},
   "source": [
    "## This analysis can be followed by a look at the sms received and no-show percentage"
   ]
  },
  {
   "cell_type": "code",
   "execution_count": null,
   "metadata": {
    "pycharm": {
     "is_executing": false
    }
   },
   "outputs": [],
   "source": [
    "#First we try to narrow down to the columns of interest to us\n",
    "# creating a new dataframe to analyze on\n",
    "sms_analysis = df_mapd[['Noshow_mapd','SMS_received']] \n",
    "sms_analysis.info()"
   ]
  },
  {
   "cell_type": "code",
   "execution_count": null,
   "metadata": {
    "pycharm": {
     "is_executing": false
    }
   },
   "outputs": [],
   "source": [
    "#filtering out values where the patients did not show up for the appointments\n",
    "sms_analysis[sms_analysis.Noshow_mapd == 1]['SMS_received'].value_counts()"
   ]
  },
  {
   "cell_type": "code",
   "execution_count": null,
   "metadata": {
    "pycharm": {
     "is_executing": false
    }
   },
   "outputs": [],
   "source": [
    "s=sms_analysis[sms_analysis.Noshow_mapd == 1].reset_index()\n",
    "s.drop('index',axis=1,inplace=True)\n",
    "s.head()"
   ]
  },
  {
   "cell_type": "code",
   "execution_count": null,
   "metadata": {
    "pycharm": {
     "is_executing": false
    }
   },
   "outputs": [],
   "source": [
    "#Here we are grouping Noshow_mapd with SMS_received column to get only values\n",
    "#of sms received where the patient didn't show up and converting the value counts to percentage\n",
    "#This process returns a Series\n",
    "\n",
    "Noshowsms_counts =s.groupby('Noshow_mapd')['SMS_received'].value_counts(normalize=True).mul(100)\n",
    "Noshowsms_counts"
   ]
  },
  {
   "cell_type": "code",
   "execution_count": null,
   "metadata": {
    "pycharm": {
     "is_executing": false
    }
   },
   "outputs": [],
   "source": [
    "#Converting our series to dataframe\n",
    "sms_percent=Noshowsms_counts.to_frame()\n",
    "sms_percent.insert(0, \"sms\", [0,1], True) \n",
    "sms_percent "
   ]
  },
  {
   "cell_type": "code",
   "execution_count": null,
   "metadata": {
    "pycharm": {
     "is_executing": false
    }
   },
   "outputs": [],
   "source": [
    "#In this cell we plot the dataframe finally with a pallete \n",
    "#Whose color gradient is repective to the percentage of the observation\n",
    "#Also an interesting way to set the size of the font is to use .set_context method of seaborn\n",
    "fig=sns.barplot(x=\"sms\",y=\"SMS_received\",data=sms_percent,palette=(\"Purples\"))\n",
    "fig.set(xlabel='SMS', ylabel='% of No-Show')\n",
    "sns.set_context('poster')"
   ]
  },
  {
   "cell_type": "markdown",
   "metadata": {},
   "source": [
    "## Next on the agenda is to investigate if neighborhood has a significant impact on the No-Show percentage"
   ]
  },
  {
   "cell_type": "code",
   "execution_count": null,
   "metadata": {
    "pycharm": {
     "is_executing": false
    }
   },
   "outputs": [],
   "source": [
    "# As can be seen that there are 81 different neighborhoods in the data\n",
    "# We will try to analyze them\n",
    "df_final.Neighbourhood.value_counts()"
   ]
  },
  {
   "cell_type": "code",
   "execution_count": null,
   "metadata": {
    "pycharm": {
     "is_executing": false
    }
   },
   "outputs": [],
   "source": [
    "#First we try to narrow down to the columns of interest to us\n",
    "# creating a new dataframe to analyze on\n",
    "nbr_analysis = df_mapd[['Noshow_mapd','Neighbourhood']] \n",
    "nbr_analysis.info()"
   ]
  },
  {
   "cell_type": "code",
   "execution_count": null,
   "metadata": {
    "pycharm": {
     "is_executing": false
    }
   },
   "outputs": [],
   "source": [
    "#filtering out values where the patients did not show up for the appointments\n",
    "nbr_analysis[nbr_analysis.Noshow_mapd == 1]['Neighbourhood'].value_counts()"
   ]
  },
  {
   "cell_type": "code",
   "execution_count": null,
   "metadata": {
    "pycharm": {
     "is_executing": false
    }
   },
   "outputs": [],
   "source": [
    "n=nbr_analysis[nbr_analysis.Noshow_mapd == 1].reset_index()\n",
    "n.drop('index',axis=1,inplace=True)\n",
    "n.head()"
   ]
  },
  {
   "cell_type": "code",
   "execution_count": null,
   "metadata": {
    "pycharm": {
     "is_executing": false
    }
   },
   "outputs": [],
   "source": [
    "#Here we are grouping Noshow_mapd with SMS_received column to get only values\n",
    "#of sms received where the patient didn't show up and converting the value counts to percentage\n",
    "#This process returns a Series\n",
    "\n",
    "Noshownbr_counts =n.groupby('Noshow_mapd')['Neighbourhood'].value_counts(normalize=True).mul(100)\n",
    "Noshownbr_counts"
   ]
  },
  {
   "cell_type": "code",
   "execution_count": null,
   "metadata": {
    "pycharm": {
     "is_executing": false
    }
   },
   "outputs": [],
   "source": [
    "#Before we can convert the our series to data fram we need to obtain the list of all\n",
    "#80 Neighbourhoods to form the column of our data frame\n"
   ]
  },
  {
   "cell_type": "code",
   "execution_count": null,
   "metadata": {
    "pycharm": {
     "is_executing": false
    }
   },
   "outputs": [],
   "source": []
  },
  {
   "cell_type": "code",
   "execution_count": null,
   "metadata": {
    "pycharm": {
     "is_executing": false
    }
   },
   "outputs": [],
   "source": []
  },
  {
   "cell_type": "code",
   "execution_count": null,
   "metadata": {
    "pycharm": {
     "is_executing": false
    }
   },
   "outputs": [],
   "source": []
  }
 ],
 "metadata": {
  "kernelspec": {
   "display_name": "Python 3",
   "language": "python",
   "name": "python3"
  },
  "language_info": {
   "codemirror_mode": {
    "name": "ipython",
    "version": 3
   },
   "file_extension": ".py",
   "mimetype": "text/x-python",
   "name": "python",
   "nbconvert_exporter": "python",
   "pygments_lexer": "ipython3",
   "version": "3.7.3"
  },
  "pycharm": {
   "stem_cell": {
    "cell_type": "raw",
    "metadata": {
     "collapsed": false
    },
    "source": []
   }
  }
 },
 "nbformat": 4,
 "nbformat_minor": 1
}